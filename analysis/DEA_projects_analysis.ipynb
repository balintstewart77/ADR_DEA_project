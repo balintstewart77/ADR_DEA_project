{
 "cells": [
  {
   "cell_type": "markdown",
   "id": "be39e116",
   "metadata": {},
   "source": [
    "# DEA accredited proejcts analysis 2019-2025"
   ]
  },
  {
   "cell_type": "markdown",
   "id": "25a8c31c",
   "metadata": {},
   "source": [
    "## import libraries and data"
   ]
  },
  {
   "cell_type": "code",
   "execution_count": 260,
   "id": "044c2836",
   "metadata": {},
   "outputs": [],
   "source": [
    "import pandas as pd\n",
    "import numpy as np\n",
    "import matplotlib.pyplot as plt\n",
    "import seaborn as sns\n"
   ]
  },
  {
   "cell_type": "code",
   "execution_count": 261,
   "id": "a64ce1b5",
   "metadata": {},
   "outputs": [],
   "source": [
    "df = pd.read_csv('C:/Users/balin/Desktop/ADR_DEA_project/data/dea_accredited_projects.csv')"
   ]
  },
  {
   "cell_type": "code",
   "execution_count": 262,
   "id": "9b94d157",
   "metadata": {},
   "outputs": [
    {
     "data": {
      "text/html": [
       "<div>\n",
       "<style scoped>\n",
       "    .dataframe tbody tr th:only-of-type {\n",
       "        vertical-align: middle;\n",
       "    }\n",
       "\n",
       "    .dataframe tbody tr th {\n",
       "        vertical-align: top;\n",
       "    }\n",
       "\n",
       "    .dataframe thead th {\n",
       "        text-align: right;\n",
       "    }\n",
       "</style>\n",
       "<table border=\"1\" class=\"dataframe\">\n",
       "  <thead>\n",
       "    <tr style=\"text-align: right;\">\n",
       "      <th></th>\n",
       "      <th>Project ID</th>\n",
       "      <th>Title</th>\n",
       "      <th>Researchers</th>\n",
       "      <th>Legal Basis</th>\n",
       "      <th>Datasets Used</th>\n",
       "      <th>Secure Research Service</th>\n",
       "      <th>Accreditation Date</th>\n",
       "    </tr>\n",
       "  </thead>\n",
       "  <tbody>\n",
       "    <tr>\n",
       "      <th>0</th>\n",
       "      <td>2019/003</td>\n",
       "      <td>The fall of the labour share and rise of the s...</td>\n",
       "      <td>Carolin Ioramashvili, London School of Economics</td>\n",
       "      <td>Digital Economy Act (2017)</td>\n",
       "      <td>Office for National Statistics: Annual Respond...</td>\n",
       "      <td>Office for National Statistics Secure Research...</td>\n",
       "      <td>10/25/2019</td>\n",
       "    </tr>\n",
       "    <tr>\n",
       "      <th>1</th>\n",
       "      <td>2019/004</td>\n",
       "      <td>The changing nature of the HR and training pra...</td>\n",
       "      <td>Jonathan Boys, Chartered Institute of Personne...</td>\n",
       "      <td>Digital Economy Act (2017)</td>\n",
       "      <td>Office for National Statistics: Annual Populat...</td>\n",
       "      <td>Office for National Statistics Secure Research...</td>\n",
       "      <td>10/25/2019</td>\n",
       "    </tr>\n",
       "    <tr>\n",
       "      <th>2</th>\n",
       "      <td>2019/006</td>\n",
       "      <td>Analysis of victimisation data from the Crime ...</td>\n",
       "      <td>Julian Molina, Office of the Victims' Commissi...</td>\n",
       "      <td>Digital Economy Act (2017)</td>\n",
       "      <td>Office for National Statistics: Crime Survey f...</td>\n",
       "      <td>Office for National Statistics Secure Research...</td>\n",
       "      <td>10/14/2019</td>\n",
       "    </tr>\n",
       "    <tr>\n",
       "      <th>3</th>\n",
       "      <td>2019/007</td>\n",
       "      <td>Thriving Places index – indicators of wellbein...</td>\n",
       "      <td>Soraya Safazadeh, Happy City Initiative\\nSaama...</td>\n",
       "      <td>Digital Economy Act (2017)</td>\n",
       "      <td>Office for National Statistics: Labour Force S...</td>\n",
       "      <td>Office for National Statistics Secure Research...</td>\n",
       "      <td>10/14/2019</td>\n",
       "    </tr>\n",
       "    <tr>\n",
       "      <th>4</th>\n",
       "      <td>2019/008</td>\n",
       "      <td>Class in UK creative industries: Beyond partic...</td>\n",
       "      <td>Rebecca Florisson, The Work Foundation</td>\n",
       "      <td>Digital Economy Act (2017)</td>\n",
       "      <td>Office for National Statistics: Labour Force S...</td>\n",
       "      <td>Office for National Statistics Secure Research...</td>\n",
       "      <td>11/19/2019</td>\n",
       "    </tr>\n",
       "  </tbody>\n",
       "</table>\n",
       "</div>"
      ],
      "text/plain": [
       "  Project ID                                              Title  \\\n",
       "0   2019/003  The fall of the labour share and rise of the s...   \n",
       "1   2019/004  The changing nature of the HR and training pra...   \n",
       "2   2019/006  Analysis of victimisation data from the Crime ...   \n",
       "3   2019/007  Thriving Places index – indicators of wellbein...   \n",
       "4   2019/008  Class in UK creative industries: Beyond partic...   \n",
       "\n",
       "                                         Researchers  \\\n",
       "0   Carolin Ioramashvili, London School of Economics   \n",
       "1  Jonathan Boys, Chartered Institute of Personne...   \n",
       "2  Julian Molina, Office of the Victims' Commissi...   \n",
       "3  Soraya Safazadeh, Happy City Initiative\\nSaama...   \n",
       "4             Rebecca Florisson, The Work Foundation   \n",
       "\n",
       "                  Legal Basis  \\\n",
       "0  Digital Economy Act (2017)   \n",
       "1  Digital Economy Act (2017)   \n",
       "2  Digital Economy Act (2017)   \n",
       "3  Digital Economy Act (2017)   \n",
       "4  Digital Economy Act (2017)   \n",
       "\n",
       "                                       Datasets Used  \\\n",
       "0  Office for National Statistics: Annual Respond...   \n",
       "1  Office for National Statistics: Annual Populat...   \n",
       "2  Office for National Statistics: Crime Survey f...   \n",
       "3  Office for National Statistics: Labour Force S...   \n",
       "4  Office for National Statistics: Labour Force S...   \n",
       "\n",
       "                             Secure Research Service Accreditation Date  \n",
       "0  Office for National Statistics Secure Research...         10/25/2019  \n",
       "1  Office for National Statistics Secure Research...         10/25/2019  \n",
       "2  Office for National Statistics Secure Research...         10/14/2019  \n",
       "3  Office for National Statistics Secure Research...         10/14/2019  \n",
       "4  Office for National Statistics Secure Research...         11/19/2019  "
      ]
     },
     "execution_count": 262,
     "metadata": {},
     "output_type": "execute_result"
    }
   ],
   "source": [
    "df.head()"
   ]
  },
  {
   "cell_type": "markdown",
   "id": "ffaf6694",
   "metadata": {},
   "source": [
    "## Tidy the data"
   ]
  },
  {
   "cell_type": "code",
   "execution_count": 263,
   "id": "af32dff7",
   "metadata": {},
   "outputs": [
    {
     "data": {
      "text/plain": [
       "Project ID                 0\n",
       "Title                      0\n",
       "Researchers                2\n",
       "Legal Basis                0\n",
       "Datasets Used              1\n",
       "Secure Research Service    0\n",
       "Accreditation Date         0\n",
       "dtype: int64"
      ]
     },
     "execution_count": 263,
     "metadata": {},
     "output_type": "execute_result"
    }
   ],
   "source": [
    "df.isna().sum()"
   ]
  },
  {
   "cell_type": "code",
   "execution_count": 264,
   "id": "42c9733f",
   "metadata": {},
   "outputs": [],
   "source": [
    "missing_researchers = df[df['Researchers'].isna()]"
   ]
  },
  {
   "cell_type": "code",
   "execution_count": 265,
   "id": "5310482f",
   "metadata": {},
   "outputs": [],
   "source": [
    "missing_datasets = df[df['Datasets Used'].isna()]"
   ]
  },
  {
   "cell_type": "code",
   "execution_count": 266,
   "id": "5d3e54dd",
   "metadata": {},
   "outputs": [],
   "source": [
    "# Drop rows with missing datasets used\n",
    "df = df.dropna(subset=['Datasets Used'])"
   ]
  },
  {
   "cell_type": "code",
   "execution_count": 267,
   "id": "33b27497",
   "metadata": {},
   "outputs": [
    {
     "data": {
      "text/html": [
       "<div>\n",
       "<style scoped>\n",
       "    .dataframe tbody tr th:only-of-type {\n",
       "        vertical-align: middle;\n",
       "    }\n",
       "\n",
       "    .dataframe tbody tr th {\n",
       "        vertical-align: top;\n",
       "    }\n",
       "\n",
       "    .dataframe thead th {\n",
       "        text-align: right;\n",
       "    }\n",
       "</style>\n",
       "<table border=\"1\" class=\"dataframe\">\n",
       "  <thead>\n",
       "    <tr style=\"text-align: right;\">\n",
       "      <th></th>\n",
       "      <th>Project ID</th>\n",
       "      <th>Title</th>\n",
       "      <th>Researchers</th>\n",
       "      <th>Legal Basis</th>\n",
       "      <th>Datasets Used</th>\n",
       "      <th>Secure Research Service</th>\n",
       "      <th>Accreditation Date</th>\n",
       "    </tr>\n",
       "  </thead>\n",
       "  <tbody>\n",
       "    <tr>\n",
       "      <th>0</th>\n",
       "      <td>2019/003</td>\n",
       "      <td>The fall of the labour share and rise of the s...</td>\n",
       "      <td>Carolin Ioramashvili, London School of Economics</td>\n",
       "      <td>Digital Economy Act (2017)</td>\n",
       "      <td>Office for National Statistics: Annual Respond...</td>\n",
       "      <td>Office for National Statistics Secure Research...</td>\n",
       "      <td>10/25/2019</td>\n",
       "    </tr>\n",
       "    <tr>\n",
       "      <th>1</th>\n",
       "      <td>2019/004</td>\n",
       "      <td>The changing nature of the HR and training pra...</td>\n",
       "      <td>Jonathan Boys, Chartered Institute of Personne...</td>\n",
       "      <td>Digital Economy Act (2017)</td>\n",
       "      <td>Office for National Statistics: Annual Populat...</td>\n",
       "      <td>Office for National Statistics Secure Research...</td>\n",
       "      <td>10/25/2019</td>\n",
       "    </tr>\n",
       "    <tr>\n",
       "      <th>2</th>\n",
       "      <td>2019/006</td>\n",
       "      <td>Analysis of victimisation data from the Crime ...</td>\n",
       "      <td>Julian Molina, Office of the Victims' Commissi...</td>\n",
       "      <td>Digital Economy Act (2017)</td>\n",
       "      <td>Office for National Statistics: Crime Survey f...</td>\n",
       "      <td>Office for National Statistics Secure Research...</td>\n",
       "      <td>10/14/2019</td>\n",
       "    </tr>\n",
       "    <tr>\n",
       "      <th>3</th>\n",
       "      <td>2019/007</td>\n",
       "      <td>Thriving Places index – indicators of wellbein...</td>\n",
       "      <td>Soraya Safazadeh, Happy City Initiative\\nSaama...</td>\n",
       "      <td>Digital Economy Act (2017)</td>\n",
       "      <td>Office for National Statistics: Labour Force S...</td>\n",
       "      <td>Office for National Statistics Secure Research...</td>\n",
       "      <td>10/14/2019</td>\n",
       "    </tr>\n",
       "    <tr>\n",
       "      <th>4</th>\n",
       "      <td>2019/008</td>\n",
       "      <td>Class in UK creative industries: Beyond partic...</td>\n",
       "      <td>Rebecca Florisson, The Work Foundation</td>\n",
       "      <td>Digital Economy Act (2017)</td>\n",
       "      <td>Office for National Statistics: Labour Force S...</td>\n",
       "      <td>Office for National Statistics Secure Research...</td>\n",
       "      <td>11/19/2019</td>\n",
       "    </tr>\n",
       "  </tbody>\n",
       "</table>\n",
       "</div>"
      ],
      "text/plain": [
       "  Project ID                                              Title  \\\n",
       "0   2019/003  The fall of the labour share and rise of the s...   \n",
       "1   2019/004  The changing nature of the HR and training pra...   \n",
       "2   2019/006  Analysis of victimisation data from the Crime ...   \n",
       "3   2019/007  Thriving Places index – indicators of wellbein...   \n",
       "4   2019/008  Class in UK creative industries: Beyond partic...   \n",
       "\n",
       "                                         Researchers  \\\n",
       "0   Carolin Ioramashvili, London School of Economics   \n",
       "1  Jonathan Boys, Chartered Institute of Personne...   \n",
       "2  Julian Molina, Office of the Victims' Commissi...   \n",
       "3  Soraya Safazadeh, Happy City Initiative\\nSaama...   \n",
       "4             Rebecca Florisson, The Work Foundation   \n",
       "\n",
       "                  Legal Basis  \\\n",
       "0  Digital Economy Act (2017)   \n",
       "1  Digital Economy Act (2017)   \n",
       "2  Digital Economy Act (2017)   \n",
       "3  Digital Economy Act (2017)   \n",
       "4  Digital Economy Act (2017)   \n",
       "\n",
       "                                       Datasets Used  \\\n",
       "0  Office for National Statistics: Annual Respond...   \n",
       "1  Office for National Statistics: Annual Populat...   \n",
       "2  Office for National Statistics: Crime Survey f...   \n",
       "3  Office for National Statistics: Labour Force S...   \n",
       "4  Office for National Statistics: Labour Force S...   \n",
       "\n",
       "                             Secure Research Service Accreditation Date  \n",
       "0  Office for National Statistics Secure Research...         10/25/2019  \n",
       "1  Office for National Statistics Secure Research...         10/25/2019  \n",
       "2  Office for National Statistics Secure Research...         10/14/2019  \n",
       "3  Office for National Statistics Secure Research...         10/14/2019  \n",
       "4  Office for National Statistics Secure Research...         11/19/2019  "
      ]
     },
     "execution_count": 267,
     "metadata": {},
     "output_type": "execute_result"
    }
   ],
   "source": [
    "df.head()"
   ]
  },
  {
   "cell_type": "code",
   "execution_count": 268,
   "id": "02fb95e5",
   "metadata": {},
   "outputs": [
    {
     "data": {
      "text/plain": [
       "Legal Basis\n",
       "Digital Economy Act (2017)                                                                                                                                                                                                                                                       1023\n",
       "Statistics and Registration Services Act 2007 (SRSA) - Approved Researcher Gateway: added data after 9 September 2021                                                                                                                                                              98\n",
       "Digital Economy Act 2017                                                                                                                                                                                                                                                           18\n",
       "Statistics and Registration Services Act 2007 (SRSA) - Approved Researcher Gateway: added data after 9 September 2021s Act 2007 (SRSA) - Approved Researcher Gateway: added data after 9 September 2021                                                                             5\n",
       "Digital Economy Act (2017)\\n\\nStatistics and Registration Services Act 2007 (SRSA) - Approved Researcher Gateway: added data after 9 September 2021s Act 2007 - Approved Researcher Gateway: added data after 9 September 2021                                                      3\n",
       "Statistics and Registration Services Act 2007 (SRSA) - Approved Researcher Gateway: added data after 9 September 2021s Act 2007 (SRSA) - Approved Researcher Gateway: added data after 9 September 2021s Act 2007 - Approved Researcher Gateway                                     1\n",
       "Digital Economy Act (2017)\\n\\nStatistics and Registration Services Act 2007 (SRSA) - Approved Researcher Gateway: added data after 9 September 2021s Act 2007 (SRSA) - Approved Researcher Gateway: added data after 9 September 2021s Act 2007 - Approved Researcher Gateway       1\n",
       "Digital Economy Act (2017) & Statistics and Registration Services Act 2007 (SRSA) - Approved Researcher Gateway: added data after 9 September 2021s Act 2007 (SRSA) - Approved Researcher Gateway: added data after 9 September 2021s Act 2007 - Approved Researcher Gateway        1\n",
       "Statistics and Registration Services Act 2007 (SRSA) - Approved Researcher Gateway: added data after 9 September 2021s Act 2007 (SRSA) - Approved Researcher Gateway: added data after 9 September 2021s Act 2007 - Approved Researcher Gatway                                      1\n",
       "Statistics and Registration Services Act 2007 (SRSA) - Approved Researcher Gateway: added data after 9 September 2021s Act 2007 (SRSA) - Approved Researcher Gateway: added data after 9 September 2021 Act                                                                         1\n",
       "Name: count, dtype: int64"
      ]
     },
     "execution_count": 268,
     "metadata": {},
     "output_type": "execute_result"
    }
   ],
   "source": [
    "df['Legal Basis'].value_counts()"
   ]
  },
  {
   "cell_type": "markdown",
   "id": "03a6a8fb",
   "metadata": {},
   "source": [
    "What's the difference between the DEA and SRSA? \n",
    "| Aspect                       | **SRSA (2007)**                                   | **DEA (2017)**                                                 |\n",
    "| ---------------------------- | ------------------------------------------------- | -------------------------------------------------------------- |\n",
    "| **Legal Authority**          | Statistics and Registration Service Act 2007      | Digital Economy Act 2017 – Chapter 5 (Research Strand)         |\n",
    "| **Main Data Custodian**      | Office for National Statistics (ONS) only         | Any specified public authority (incl. ONS, NHS, DWP, etc.) |\n",
    "| **Scope of Data Sharing**    | ONS data only                                     | Cross-government administrative data                           |\n",
    "| **Type of Research**         | Purely **statistical** purposes                   | Broader research (including policy evaluation)             |\n",
    "| **Researcher Accreditation** | Required – via UK Statistics Authority (UKSA)     | Required – same UKSA framework                                 |\n",
    "| **Secure Access Required**   | Yes (e.g. Secure Research Service)                | Yes (e.g. via an accredited processor or secure lab)           |\n",
    "| **Public Benefit Test**      | Yes                                               | Yes                                                            |\n",
    "| **Data Sharing Permissions** | Limited to non-identifying, statistical data only | Can include de-identified **admin** data for wider use         |\n",
    "| **Oversight Body**           | UK Statistics Authority (and ONS)                 | UK Statistics Authority (with DEA Governance Board input)      |\n",
    "\n",
    "\n"
   ]
  },
  {
   "cell_type": "code",
   "execution_count": 269,
   "id": "c92bfbd3",
   "metadata": {},
   "outputs": [
    {
     "data": {
      "text/plain": [
       "Legal Basis\n",
       "Digital Economy Act 2017    1041\n",
       "Name: count, dtype: int64"
      ]
     },
     "execution_count": 269,
     "metadata": {},
     "output_type": "execute_result"
    }
   ],
   "source": [
    "# Clean Legal Basis column by removing SRSA rows\n",
    "df = df[~df['Legal Basis'].str.contains('SRSA', na=False)]\n",
    "# tidy up DEA labels\n",
    "df['Legal Basis'] = df['Legal Basis'].str.replace('Digital Economy Act (2017)', 'Digital Economy Act 2017')\n",
    "df['Legal Basis'].value_counts()"
   ]
  },
  {
   "cell_type": "code",
   "execution_count": 270,
   "id": "64a0c8d9",
   "metadata": {},
   "outputs": [
    {
     "data": {
      "text/plain": [
       "Project ID                 0\n",
       "Title                      0\n",
       "Researchers                2\n",
       "Legal Basis                0\n",
       "Datasets Used              0\n",
       "Secure Research Service    0\n",
       "Accreditation Date         0\n",
       "dtype: int64"
      ]
     },
     "execution_count": 270,
     "metadata": {},
     "output_type": "execute_result"
    }
   ],
   "source": [
    "df.isna().sum()"
   ]
  },
  {
   "cell_type": "code",
   "execution_count": 271,
   "id": "72265e0b",
   "metadata": {},
   "outputs": [],
   "source": [
    "df[\"datasets_clean\"] = (\n",
    "    df[\"Datasets Used\"]\n",
    "    .str.lower()\n",
    "    .str.replace(\"\\n\", \"; \", regex=False)  # replace newlines with semicolon\n",
    "    .str.replace(r\"\\s*,\\s*\", \", \", regex=True)  # normalize commas\n",
    "    .str.replace(r\"\\s*:\\s*\", \": \", regex=True)  # normalize colons\n",
    ")"
   ]
  },
  {
   "cell_type": "code",
   "execution_count": 272,
   "id": "7ac4651a",
   "metadata": {},
   "outputs": [],
   "source": [
    "def extract_datasets(row):\n",
    "    results = []\n",
    "    for entry in row.split(\";\"):\n",
    "        if \":\" in entry:\n",
    "            owner, datasets = entry.split(\":\", 1)\n",
    "            dataset_list = [ds.strip() for ds in datasets.split(\",\")]\n",
    "            results.extend(dataset_list)\n",
    "    return results\n",
    "\n",
    "df[\"dataset_list\"] = df[\"datasets_clean\"].apply(lambda x: extract_datasets(x))"
   ]
  },
  {
   "cell_type": "code",
   "execution_count": 273,
   "id": "737b04e0",
   "metadata": {},
   "outputs": [],
   "source": [
    "example_row_mulitple_datasets = df.iloc[6]"
   ]
  },
  {
   "cell_type": "code",
   "execution_count": 274,
   "id": "3566a4d1",
   "metadata": {},
   "outputs": [
    {
     "data": {
      "text/html": [
       "<div>\n",
       "<style scoped>\n",
       "    .dataframe tbody tr th:only-of-type {\n",
       "        vertical-align: middle;\n",
       "    }\n",
       "\n",
       "    .dataframe tbody tr th {\n",
       "        vertical-align: top;\n",
       "    }\n",
       "\n",
       "    .dataframe thead th {\n",
       "        text-align: right;\n",
       "    }\n",
       "</style>\n",
       "<table border=\"1\" class=\"dataframe\">\n",
       "  <thead>\n",
       "    <tr style=\"text-align: right;\">\n",
       "      <th></th>\n",
       "      <th>Project ID</th>\n",
       "      <th>Title</th>\n",
       "      <th>Researchers</th>\n",
       "      <th>Legal Basis</th>\n",
       "      <th>Datasets Used</th>\n",
       "      <th>Secure Research Service</th>\n",
       "      <th>Accreditation Date</th>\n",
       "      <th>datasets_clean</th>\n",
       "      <th>dataset_list</th>\n",
       "    </tr>\n",
       "  </thead>\n",
       "  <tbody>\n",
       "    <tr>\n",
       "      <th>424</th>\n",
       "      <td>2022/127</td>\n",
       "      <td>Estimating capital utilisation for productivit...</td>\n",
       "      <td>Josh Martin, Bank of England\\nCain Baybutt, Of...</td>\n",
       "      <td>Digital Economy Act 2017</td>\n",
       "      <td>Annual Population Survey, Labour Force Survey ...</td>\n",
       "      <td>Office for National Statistics Secure Research...</td>\n",
       "      <td>09/06/2022</td>\n",
       "      <td>annual population survey, labour force survey ...</td>\n",
       "      <td>[]</td>\n",
       "    </tr>\n",
       "    <tr>\n",
       "      <th>461</th>\n",
       "      <td>2022/156</td>\n",
       "      <td>Impact of Technologies on Productivity and Peo...</td>\n",
       "      <td>Karolis Matikonis, Queen's University Belfast</td>\n",
       "      <td>Digital Economy Act 2017</td>\n",
       "      <td>Northern Ireland Annual Business Inquiry , Bro...</td>\n",
       "      <td>Northern Ireland Statistics and Research Agency</td>\n",
       "      <td>10/04/2022</td>\n",
       "      <td>northern ireland annual business inquiry, broa...</td>\n",
       "      <td>[]</td>\n",
       "    </tr>\n",
       "  </tbody>\n",
       "</table>\n",
       "</div>"
      ],
      "text/plain": [
       "    Project ID                                              Title  \\\n",
       "424   2022/127  Estimating capital utilisation for productivit...   \n",
       "461   2022/156  Impact of Technologies on Productivity and Peo...   \n",
       "\n",
       "                                           Researchers  \\\n",
       "424  Josh Martin, Bank of England\\nCain Baybutt, Of...   \n",
       "461      Karolis Matikonis, Queen's University Belfast   \n",
       "\n",
       "                  Legal Basis  \\\n",
       "424  Digital Economy Act 2017   \n",
       "461  Digital Economy Act 2017   \n",
       "\n",
       "                                         Datasets Used  \\\n",
       "424  Annual Population Survey, Labour Force Survey ...   \n",
       "461  Northern Ireland Annual Business Inquiry , Bro...   \n",
       "\n",
       "                               Secure Research Service Accreditation Date  \\\n",
       "424  Office for National Statistics Secure Research...         09/06/2022   \n",
       "461    Northern Ireland Statistics and Research Agency         10/04/2022   \n",
       "\n",
       "                                        datasets_clean dataset_list  \n",
       "424  annual population survey, labour force survey ...           []  \n",
       "461  northern ireland annual business inquiry, broa...           []  "
      ]
     },
     "execution_count": 274,
     "metadata": {},
     "output_type": "execute_result"
    }
   ],
   "source": [
    "df[df[\"dataset_list\"].apply(lambda x: isinstance(x, list) and len(x) == 0)]"
   ]
  },
  {
   "cell_type": "code",
   "execution_count": 275,
   "id": "464d6695",
   "metadata": {},
   "outputs": [],
   "source": [
    "# Data owners are missing from the Datasets Used column. For these rows, just fill dataset_list with the split datasets_clean value\n",
    "df.loc[\n",
    "    df[\"dataset_list\"].apply(lambda x: isinstance(x, list) and len(x) == 0),\n",
    "    \"dataset_list\"\n",
    "] = df.loc[\n",
    "    df[\"dataset_list\"].apply(lambda x: isinstance(x, list) and len(x) == 0),\n",
    "    \"datasets_clean\"\n",
    "].apply(lambda x: [ds.strip() for ds in x.split(\",\") if ds.strip()])"
   ]
  },
  {
   "cell_type": "code",
   "execution_count": 276,
   "id": "25845b6b",
   "metadata": {},
   "outputs": [
    {
     "data": {
      "text/plain": [
       "Project ID                 0\n",
       "Title                      0\n",
       "Researchers                2\n",
       "Legal Basis                0\n",
       "Datasets Used              0\n",
       "Secure Research Service    0\n",
       "Accreditation Date         0\n",
       "datasets_clean             0\n",
       "dataset_list               0\n",
       "dtype: int64"
      ]
     },
     "execution_count": 276,
     "metadata": {},
     "output_type": "execute_result"
    }
   ],
   "source": [
    "df_exploded = df.explode(\"dataset_list\")\n",
    "df_exploded.isna().sum()"
   ]
  },
  {
   "cell_type": "code",
   "execution_count": 277,
   "id": "9d7e5ee1",
   "metadata": {},
   "outputs": [],
   "source": [
    "all_datasets_df = df_exploded['dataset_list'].value_counts().reset_index()\n",
    "all_datasets_df.columns = ['dataset', 'count']"
   ]
  },
  {
   "cell_type": "markdown",
   "id": "fd57b06c",
   "metadata": {},
   "source": [
    "## Overall use of different datasets"
   ]
  },
  {
   "cell_type": "code",
   "execution_count": 278,
   "id": "ab29b85f",
   "metadata": {},
   "outputs": [
    {
     "data": {
      "text/html": [
       "<div>\n",
       "<style scoped>\n",
       "    .dataframe tbody tr th:only-of-type {\n",
       "        vertical-align: middle;\n",
       "    }\n",
       "\n",
       "    .dataframe tbody tr th {\n",
       "        vertical-align: top;\n",
       "    }\n",
       "\n",
       "    .dataframe thead th {\n",
       "        text-align: right;\n",
       "    }\n",
       "</style>\n",
       "<table border=\"1\" class=\"dataframe\">\n",
       "  <thead>\n",
       "    <tr style=\"text-align: right;\">\n",
       "      <th></th>\n",
       "      <th>dataset</th>\n",
       "      <th>count</th>\n",
       "    </tr>\n",
       "  </thead>\n",
       "  <tbody>\n",
       "    <tr>\n",
       "      <th>0</th>\n",
       "      <td>business structure database</td>\n",
       "      <td>120</td>\n",
       "    </tr>\n",
       "    <tr>\n",
       "      <th>1</th>\n",
       "      <td>annual business survey</td>\n",
       "      <td>117</td>\n",
       "    </tr>\n",
       "    <tr>\n",
       "      <th>2</th>\n",
       "      <td>annual population survey</td>\n",
       "      <td>93</td>\n",
       "    </tr>\n",
       "    <tr>\n",
       "      <th>3</th>\n",
       "      <td>annual survey of hours and earnings</td>\n",
       "      <td>85</td>\n",
       "    </tr>\n",
       "    <tr>\n",
       "      <th>4</th>\n",
       "      <td>business structure database - uk</td>\n",
       "      <td>83</td>\n",
       "    </tr>\n",
       "  </tbody>\n",
       "</table>\n",
       "</div>"
      ],
      "text/plain": [
       "                               dataset  count\n",
       "0          business structure database    120\n",
       "1               annual business survey    117\n",
       "2             annual population survey     93\n",
       "3  annual survey of hours and earnings     85\n",
       "4     business structure database - uk     83"
      ]
     },
     "execution_count": 278,
     "metadata": {},
     "output_type": "execute_result"
    }
   ],
   "source": [
    "all_datasets_df.head()"
   ]
  },
  {
   "cell_type": "markdown",
   "id": "a527b3c3",
   "metadata": {},
   "source": [
    "### Overall use of ADR UK flagship datasets"
   ]
  },
  {
   "cell_type": "markdown",
   "id": "6a6cb930",
   "metadata": {},
   "source": [
    "## Use of datasets over time"
   ]
  },
  {
   "cell_type": "code",
   "execution_count": 253,
   "id": "5b21e28d",
   "metadata": {},
   "outputs": [],
   "source": [
    "# Convert accreditation date to datetime\n",
    "df['Accreditation Date'] = pd.to_datetime(df['Accreditation Date'], errors='coerce')\n",
    "df['Year'] = df['Accreditation Date'].dt.year"
   ]
  },
  {
   "cell_type": "code",
   "execution_count": 254,
   "id": "f569c2fa",
   "metadata": {},
   "outputs": [
    {
     "data": {
      "image/png": "[encoded data removed]",
      "text/plain": [
       "<Figure size 1200x600 with 1 Axes>"
      ]
     },
     "metadata": {},
     "output_type": "display_data"
    }
   ],
   "source": [
    "sns.set_style(\"darkgrid\")\n",
    "plt.figure(figsize=(12, 6))\n",
    "sns.histplot(df['Year'], bins=20, color='#4472C4', \n",
    "    alpha=0.8,\n",
    "    edgecolor='white',\n",
    "    linewidth=1)\n",
    "plt.title('Number of DEA Accredited Projects by Year (up to 14 May 2025)')\n",
    "plt.xlabel('Year')\n",
    "plt.ylabel('Number of Projects')\n",
    "plt.tight_layout()"
   ]
  },
  {
   "cell_type": "code",
   "execution_count": null,
   "id": "eb7adf7f",
   "metadata": {},
   "outputs": [],
   "source": []
  },
  {
   "cell_type": "code",
   "execution_count": 255,
   "id": "25137a13",
   "metadata": {},
   "outputs": [],
   "source": [
    "# ADR UK flagship datasets\n",
    "flagship_datasets = ['agricultural research collection']"
   ]
  },
  {
   "cell_type": "code",
   "execution_count": 256,
   "id": "c602098a",
   "metadata": {},
   "outputs": [
    {
     "data": {
      "text/html": [
       "<div>\n",
       "<style scoped>\n",
       "    .dataframe tbody tr th:only-of-type {\n",
       "        vertical-align: middle;\n",
       "    }\n",
       "\n",
       "    .dataframe tbody tr th {\n",
       "        vertical-align: top;\n",
       "    }\n",
       "\n",
       "    .dataframe thead th {\n",
       "        text-align: right;\n",
       "    }\n",
       "</style>\n",
       "<table border=\"1\" class=\"dataframe\">\n",
       "  <thead>\n",
       "    <tr style=\"text-align: right;\">\n",
       "      <th></th>\n",
       "      <th>Project ID</th>\n",
       "      <th>Title</th>\n",
       "      <th>Researchers</th>\n",
       "      <th>Legal Basis</th>\n",
       "      <th>Datasets Used</th>\n",
       "      <th>Secure Research Service</th>\n",
       "      <th>Accreditation Date</th>\n",
       "      <th>datasets_clean</th>\n",
       "      <th>dataset_list</th>\n",
       "    </tr>\n",
       "  </thead>\n",
       "  <tbody>\n",
       "    <tr>\n",
       "      <th>425</th>\n",
       "      <td>2022/129</td>\n",
       "      <td>AD|ARC : Linking Individual and Farm Level Dat...</td>\n",
       "      <td>Nicholas Webster, Welsh Government\\nMatthew Ke...</td>\n",
       "      <td>Digital Economy Act 2017</td>\n",
       "      <td>Office for National Statistics: Agricultural R...</td>\n",
       "      <td>Office for National Statistics Secure Research...</td>\n",
       "      <td>11/09/2022</td>\n",
       "      <td>office for national statistics: agricultural r...</td>\n",
       "      <td>agricultural research collection</td>\n",
       "    </tr>\n",
       "    <tr>\n",
       "      <th>575</th>\n",
       "      <td>2023/076</td>\n",
       "      <td>AD|ARC (Administrative Data Agri-Research Coll...</td>\n",
       "      <td>Nicholas Webster, Welsh Government\\nSian Morri...</td>\n",
       "      <td>Digital Economy Act 2017</td>\n",
       "      <td>Department for Environment, Food &amp; Rural Affai...</td>\n",
       "      <td>Office for National Statistics Secure Research...</td>\n",
       "      <td>2023-05-24</td>\n",
       "      <td>department for environment, food &amp; rural affai...</td>\n",
       "      <td>bespoke admin data: agricultural research coll...</td>\n",
       "    </tr>\n",
       "  </tbody>\n",
       "</table>\n",
       "</div>"
      ],
      "text/plain": [
       "    Project ID                                              Title  \\\n",
       "425   2022/129  AD|ARC : Linking Individual and Farm Level Dat...   \n",
       "575   2023/076  AD|ARC (Administrative Data Agri-Research Coll...   \n",
       "\n",
       "                                           Researchers  \\\n",
       "425  Nicholas Webster, Welsh Government\\nMatthew Ke...   \n",
       "575  Nicholas Webster, Welsh Government\\nSian Morri...   \n",
       "\n",
       "                  Legal Basis  \\\n",
       "425  Digital Economy Act 2017   \n",
       "575  Digital Economy Act 2017   \n",
       "\n",
       "                                         Datasets Used  \\\n",
       "425  Office for National Statistics: Agricultural R...   \n",
       "575  Department for Environment, Food & Rural Affai...   \n",
       "\n",
       "                               Secure Research Service Accreditation Date  \\\n",
       "425  Office for National Statistics Secure Research...         11/09/2022   \n",
       "575  Office for National Statistics Secure Research...         2023-05-24   \n",
       "\n",
       "                                        datasets_clean  \\\n",
       "425  office for national statistics: agricultural r...   \n",
       "575  department for environment, food & rural affai...   \n",
       "\n",
       "                                          dataset_list  \n",
       "425                   agricultural research collection  \n",
       "575  bespoke admin data: agricultural research coll...  "
      ]
     },
     "execution_count": 256,
     "metadata": {},
     "output_type": "execute_result"
    }
   ],
   "source": [
    "df_exploded[df_exploded['dataset_list'].str.contains('agricultural research collection', case=False, na=False)]"
   ]
  }
 ],
 "metadata": {
  "kernelspec": {
   "display_name": "venv",
   "language": "python",
   "name": "python3"
  },
  "language_info": {
   "codemirror_mode": {
    "name": "ipython",
    "version": 3
   },
   "file_extension": ".py",
   "mimetype": "text/x-python",
   "name": "python",
   "nbconvert_exporter": "python",
   "pygments_lexer": "ipython3",
   "version": "3.13.2"
  }
 },
 "nbformat": 4,
 "nbformat_minor": 5
}
