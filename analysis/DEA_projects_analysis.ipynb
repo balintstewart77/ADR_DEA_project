{
 "cells": [
  {
   "cell_type": "markdown",
   "id": "be39e116",
   "metadata": {},
   "source": [
    "# DEA accredited proejcts analysis 2019-2025"
   ]
  },
  {
   "cell_type": "markdown",
   "id": "25a8c31c",
   "metadata": {},
   "source": [
    "## import libraries and data"
   ]
  },
  {
   "cell_type": "code",
   "execution_count": 215,
   "id": "044c2836",
   "metadata": {},
   "outputs": [],
   "source": [
    "import pandas as pd\n",
    "import numpy as np\n",
    "import matplotlib.pyplot as plt\n",
    "import seaborn as sns\n"
   ]
  },
  {
   "cell_type": "code",
   "execution_count": 216,
   "id": "a64ce1b5",
   "metadata": {},
   "outputs": [],
   "source": [
    "df = pd.read_csv('C:/Users/balin/Desktop/ADR_DEA_project/data/dea_accredited_projects.csv')"
   ]
  },
  {
   "cell_type": "code",
   "execution_count": 217,
   "id": "9b94d157",
   "metadata": {},
   "outputs": [
    {
     "data": {
      "application/vnd.microsoft.datawrangler.viewer.v0+json": {
       "columns": [
        {
         "name": "index",
         "rawType": "int64",
         "type": "integer"
        },
        {
         "name": "Project ID",
         "rawType": "object",
         "type": "string"
        },
        {
         "name": "Title",
         "rawType": "object",
         "type": "string"
        },
        {
         "name": "Researchers",
         "rawType": "object",
         "type": "string"
        },
        {
         "name": "Legal Basis",
         "rawType": "object",
         "type": "string"
        },
        {
         "name": "Datasets Used",
         "rawType": "object",
         "type": "string"
        },
        {
         "name": "Secure Research Service",
         "rawType": "object",
         "type": "string"
        },
        {
         "name": "Accreditation Date",
         "rawType": "object",
         "type": "string"
        }
       ],
       "conversionMethod": "pd.DataFrame",
       "ref": "74cced22-3d1b-41e3-8aee-5f6a55fb503e",
       "rows": [
        [
         "0",
         "2019/003",
         "The fall of the labour share and rise of the superstar region? Labour share and earning in UK regions",
         "Carolin Ioramashvili, London School of Economics",
         "Digital Economy Act (2017)",
         "Office for National Statistics: Annual Respondents Database",
         "Office for National Statistics Secure Research Service",
         "10/25/2019"
        ],
        [
         "1",
         "2019/004",
         "The changing nature of the HR and training practitioner profession",
         "Jonathan Boys, Chartered Institute of Personnel and Development",
         "Digital Economy Act (2017)",
         "Office for National Statistics: Annual Population Survey",
         "Office for National Statistics Secure Research Service",
         "10/25/2019"
        ],
        [
         "2",
         "2019/006",
         "Analysis of victimisation data from the Crime Survey for England and Wales",
         "Julian Molina, Office of the Victims' Commissioner for England and Wales",
         "Digital Economy Act (2017)",
         "Office for National Statistics: Crime Survey for England and Wales",
         "Office for National Statistics Secure Research Service",
         "10/14/2019"
        ],
        [
         "3",
         "2019/007",
         "Thriving Places index – indicators of wellbeing at local authority level",
         "Soraya Safazadeh, Happy City Initiative\nSaamah Abdallah, New Economics Foundation",
         "Digital Economy Act (2017)",
         "Office for National Statistics: Labour Force Survey & Annual Population Survey",
         "Office for National Statistics Secure Research Service",
         "10/14/2019"
        ],
        [
         "4",
         "2019/008",
         "Class in UK creative industries: Beyond participation",
         "Rebecca Florisson, The Work Foundation",
         "Digital Economy Act (2017)",
         "Office for National Statistics: Labour Force Survey & Annual Population Survey\nInstitute for Economic and Social Research: Understanding Society",
         "Office for National Statistics Secure Research Service",
         "11/19/2019"
        ]
       ],
       "shape": {
        "columns": 7,
        "rows": 5
       }
      },
      "text/html": [
       "<div>\n",
       "<style scoped>\n",
       "    .dataframe tbody tr th:only-of-type {\n",
       "        vertical-align: middle;\n",
       "    }\n",
       "\n",
       "    .dataframe tbody tr th {\n",
       "        vertical-align: top;\n",
       "    }\n",
       "\n",
       "    .dataframe thead th {\n",
       "        text-align: right;\n",
       "    }\n",
       "</style>\n",
       "<table border=\"1\" class=\"dataframe\">\n",
       "  <thead>\n",
       "    <tr style=\"text-align: right;\">\n",
       "      <th></th>\n",
       "      <th>Project ID</th>\n",
       "      <th>Title</th>\n",
       "      <th>Researchers</th>\n",
       "      <th>Legal Basis</th>\n",
       "      <th>Datasets Used</th>\n",
       "      <th>Secure Research Service</th>\n",
       "      <th>Accreditation Date</th>\n",
       "    </tr>\n",
       "  </thead>\n",
       "  <tbody>\n",
       "    <tr>\n",
       "      <th>0</th>\n",
       "      <td>2019/003</td>\n",
       "      <td>The fall of the labour share and rise of the s...</td>\n",
       "      <td>Carolin Ioramashvili, London School of Economics</td>\n",
       "      <td>Digital Economy Act (2017)</td>\n",
       "      <td>Office for National Statistics: Annual Respond...</td>\n",
       "      <td>Office for National Statistics Secure Research...</td>\n",
       "      <td>10/25/2019</td>\n",
       "    </tr>\n",
       "    <tr>\n",
       "      <th>1</th>\n",
       "      <td>2019/004</td>\n",
       "      <td>The changing nature of the HR and training pra...</td>\n",
       "      <td>Jonathan Boys, Chartered Institute of Personne...</td>\n",
       "      <td>Digital Economy Act (2017)</td>\n",
       "      <td>Office for National Statistics: Annual Populat...</td>\n",
       "      <td>Office for National Statistics Secure Research...</td>\n",
       "      <td>10/25/2019</td>\n",
       "    </tr>\n",
       "    <tr>\n",
       "      <th>2</th>\n",
       "      <td>2019/006</td>\n",
       "      <td>Analysis of victimisation data from the Crime ...</td>\n",
       "      <td>Julian Molina, Office of the Victims' Commissi...</td>\n",
       "      <td>Digital Economy Act (2017)</td>\n",
       "      <td>Office for National Statistics: Crime Survey f...</td>\n",
       "      <td>Office for National Statistics Secure Research...</td>\n",
       "      <td>10/14/2019</td>\n",
       "    </tr>\n",
       "    <tr>\n",
       "      <th>3</th>\n",
       "      <td>2019/007</td>\n",
       "      <td>Thriving Places index – indicators of wellbein...</td>\n",
       "      <td>Soraya Safazadeh, Happy City Initiative\\nSaama...</td>\n",
       "      <td>Digital Economy Act (2017)</td>\n",
       "      <td>Office for National Statistics: Labour Force S...</td>\n",
       "      <td>Office for National Statistics Secure Research...</td>\n",
       "      <td>10/14/2019</td>\n",
       "    </tr>\n",
       "    <tr>\n",
       "      <th>4</th>\n",
       "      <td>2019/008</td>\n",
       "      <td>Class in UK creative industries: Beyond partic...</td>\n",
       "      <td>Rebecca Florisson, The Work Foundation</td>\n",
       "      <td>Digital Economy Act (2017)</td>\n",
       "      <td>Office for National Statistics: Labour Force S...</td>\n",
       "      <td>Office for National Statistics Secure Research...</td>\n",
       "      <td>11/19/2019</td>\n",
       "    </tr>\n",
       "  </tbody>\n",
       "</table>\n",
       "</div>"
      ],
      "text/plain": [
       "  Project ID                                              Title  \\\n",
       "0   2019/003  The fall of the labour share and rise of the s...   \n",
       "1   2019/004  The changing nature of the HR and training pra...   \n",
       "2   2019/006  Analysis of victimisation data from the Crime ...   \n",
       "3   2019/007  Thriving Places index – indicators of wellbein...   \n",
       "4   2019/008  Class in UK creative industries: Beyond partic...   \n",
       "\n",
       "                                         Researchers  \\\n",
       "0   Carolin Ioramashvili, London School of Economics   \n",
       "1  Jonathan Boys, Chartered Institute of Personne...   \n",
       "2  Julian Molina, Office of the Victims' Commissi...   \n",
       "3  Soraya Safazadeh, Happy City Initiative\\nSaama...   \n",
       "4             Rebecca Florisson, The Work Foundation   \n",
       "\n",
       "                  Legal Basis  \\\n",
       "0  Digital Economy Act (2017)   \n",
       "1  Digital Economy Act (2017)   \n",
       "2  Digital Economy Act (2017)   \n",
       "3  Digital Economy Act (2017)   \n",
       "4  Digital Economy Act (2017)   \n",
       "\n",
       "                                       Datasets Used  \\\n",
       "0  Office for National Statistics: Annual Respond...   \n",
       "1  Office for National Statistics: Annual Populat...   \n",
       "2  Office for National Statistics: Crime Survey f...   \n",
       "3  Office for National Statistics: Labour Force S...   \n",
       "4  Office for National Statistics: Labour Force S...   \n",
       "\n",
       "                             Secure Research Service Accreditation Date  \n",
       "0  Office for National Statistics Secure Research...         10/25/2019  \n",
       "1  Office for National Statistics Secure Research...         10/25/2019  \n",
       "2  Office for National Statistics Secure Research...         10/14/2019  \n",
       "3  Office for National Statistics Secure Research...         10/14/2019  \n",
       "4  Office for National Statistics Secure Research...         11/19/2019  "
      ]
     },
     "execution_count": 217,
     "metadata": {},
     "output_type": "execute_result"
    }
   ],
   "source": [
    "df.head()"
   ]
  },
  {
   "cell_type": "markdown",
   "id": "ffaf6694",
   "metadata": {},
   "source": [
    "## Tidy the data"
   ]
  },
  {
   "cell_type": "code",
   "execution_count": 218,
   "id": "af32dff7",
   "metadata": {},
   "outputs": [
    {
     "data": {
      "text/plain": [
       "Project ID                 0\n",
       "Title                      0\n",
       "Researchers                2\n",
       "Legal Basis                0\n",
       "Datasets Used              1\n",
       "Secure Research Service    0\n",
       "Accreditation Date         0\n",
       "dtype: int64"
      ]
     },
     "execution_count": 218,
     "metadata": {},
     "output_type": "execute_result"
    }
   ],
   "source": [
    "df.isna().sum()"
   ]
  },
  {
   "cell_type": "code",
   "execution_count": 219,
   "id": "42c9733f",
   "metadata": {},
   "outputs": [],
   "source": [
    "missing_researchers = df[df['Researchers'].isna()]"
   ]
  },
  {
   "cell_type": "code",
   "execution_count": 220,
   "id": "5310482f",
   "metadata": {},
   "outputs": [],
   "source": [
    "missing_datasets = df[df['Datasets Used'].isna()]"
   ]
  },
  {
   "cell_type": "code",
   "execution_count": 221,
   "id": "5d3e54dd",
   "metadata": {},
   "outputs": [],
   "source": [
    "# Drop rows with missing datasets used\n",
    "df = df.dropna(subset=['Datasets Used'])"
   ]
  },
  {
   "cell_type": "code",
   "execution_count": 222,
   "id": "33b27497",
   "metadata": {},
   "outputs": [
    {
     "data": {
      "application/vnd.microsoft.datawrangler.viewer.v0+json": {
       "columns": [
        {
         "name": "index",
         "rawType": "int64",
         "type": "integer"
        },
        {
         "name": "Project ID",
         "rawType": "object",
         "type": "string"
        },
        {
         "name": "Title",
         "rawType": "object",
         "type": "string"
        },
        {
         "name": "Researchers",
         "rawType": "object",
         "type": "string"
        },
        {
         "name": "Legal Basis",
         "rawType": "object",
         "type": "string"
        },
        {
         "name": "Datasets Used",
         "rawType": "object",
         "type": "string"
        },
        {
         "name": "Secure Research Service",
         "rawType": "object",
         "type": "string"
        },
        {
         "name": "Accreditation Date",
         "rawType": "object",
         "type": "string"
        }
       ],
       "conversionMethod": "pd.DataFrame",
       "ref": "d6e6ad95-6904-4707-871e-c304be6dae95",
       "rows": [
        [
         "0",
         "2019/003",
         "The fall of the labour share and rise of the superstar region? Labour share and earning in UK regions",
         "Carolin Ioramashvili, London School of Economics",
         "Digital Economy Act (2017)",
         "Office for National Statistics: Annual Respondents Database",
         "Office for National Statistics Secure Research Service",
         "10/25/2019"
        ],
        [
         "1",
         "2019/004",
         "The changing nature of the HR and training practitioner profession",
         "Jonathan Boys, Chartered Institute of Personnel and Development",
         "Digital Economy Act (2017)",
         "Office for National Statistics: Annual Population Survey",
         "Office for National Statistics Secure Research Service",
         "10/25/2019"
        ],
        [
         "2",
         "2019/006",
         "Analysis of victimisation data from the Crime Survey for England and Wales",
         "Julian Molina, Office of the Victims' Commissioner for England and Wales",
         "Digital Economy Act (2017)",
         "Office for National Statistics: Crime Survey for England and Wales",
         "Office for National Statistics Secure Research Service",
         "10/14/2019"
        ],
        [
         "3",
         "2019/007",
         "Thriving Places index – indicators of wellbeing at local authority level",
         "Soraya Safazadeh, Happy City Initiative\nSaamah Abdallah, New Economics Foundation",
         "Digital Economy Act (2017)",
         "Office for National Statistics: Labour Force Survey & Annual Population Survey",
         "Office for National Statistics Secure Research Service",
         "10/14/2019"
        ],
        [
         "4",
         "2019/008",
         "Class in UK creative industries: Beyond participation",
         "Rebecca Florisson, The Work Foundation",
         "Digital Economy Act (2017)",
         "Office for National Statistics: Labour Force Survey & Annual Population Survey\nInstitute for Economic and Social Research: Understanding Society",
         "Office for National Statistics Secure Research Service",
         "11/19/2019"
        ]
       ],
       "shape": {
        "columns": 7,
        "rows": 5
       }
      },
      "text/html": [
       "<div>\n",
       "<style scoped>\n",
       "    .dataframe tbody tr th:only-of-type {\n",
       "        vertical-align: middle;\n",
       "    }\n",
       "\n",
       "    .dataframe tbody tr th {\n",
       "        vertical-align: top;\n",
       "    }\n",
       "\n",
       "    .dataframe thead th {\n",
       "        text-align: right;\n",
       "    }\n",
       "</style>\n",
       "<table border=\"1\" class=\"dataframe\">\n",
       "  <thead>\n",
       "    <tr style=\"text-align: right;\">\n",
       "      <th></th>\n",
       "      <th>Project ID</th>\n",
       "      <th>Title</th>\n",
       "      <th>Researchers</th>\n",
       "      <th>Legal Basis</th>\n",
       "      <th>Datasets Used</th>\n",
       "      <th>Secure Research Service</th>\n",
       "      <th>Accreditation Date</th>\n",
       "    </tr>\n",
       "  </thead>\n",
       "  <tbody>\n",
       "    <tr>\n",
       "      <th>0</th>\n",
       "      <td>2019/003</td>\n",
       "      <td>The fall of the labour share and rise of the s...</td>\n",
       "      <td>Carolin Ioramashvili, London School of Economics</td>\n",
       "      <td>Digital Economy Act (2017)</td>\n",
       "      <td>Office for National Statistics: Annual Respond...</td>\n",
       "      <td>Office for National Statistics Secure Research...</td>\n",
       "      <td>10/25/2019</td>\n",
       "    </tr>\n",
       "    <tr>\n",
       "      <th>1</th>\n",
       "      <td>2019/004</td>\n",
       "      <td>The changing nature of the HR and training pra...</td>\n",
       "      <td>Jonathan Boys, Chartered Institute of Personne...</td>\n",
       "      <td>Digital Economy Act (2017)</td>\n",
       "      <td>Office for National Statistics: Annual Populat...</td>\n",
       "      <td>Office for National Statistics Secure Research...</td>\n",
       "      <td>10/25/2019</td>\n",
       "    </tr>\n",
       "    <tr>\n",
       "      <th>2</th>\n",
       "      <td>2019/006</td>\n",
       "      <td>Analysis of victimisation data from the Crime ...</td>\n",
       "      <td>Julian Molina, Office of the Victims' Commissi...</td>\n",
       "      <td>Digital Economy Act (2017)</td>\n",
       "      <td>Office for National Statistics: Crime Survey f...</td>\n",
       "      <td>Office for National Statistics Secure Research...</td>\n",
       "      <td>10/14/2019</td>\n",
       "    </tr>\n",
       "    <tr>\n",
       "      <th>3</th>\n",
       "      <td>2019/007</td>\n",
       "      <td>Thriving Places index – indicators of wellbein...</td>\n",
       "      <td>Soraya Safazadeh, Happy City Initiative\\nSaama...</td>\n",
       "      <td>Digital Economy Act (2017)</td>\n",
       "      <td>Office for National Statistics: Labour Force S...</td>\n",
       "      <td>Office for National Statistics Secure Research...</td>\n",
       "      <td>10/14/2019</td>\n",
       "    </tr>\n",
       "    <tr>\n",
       "      <th>4</th>\n",
       "      <td>2019/008</td>\n",
       "      <td>Class in UK creative industries: Beyond partic...</td>\n",
       "      <td>Rebecca Florisson, The Work Foundation</td>\n",
       "      <td>Digital Economy Act (2017)</td>\n",
       "      <td>Office for National Statistics: Labour Force S...</td>\n",
       "      <td>Office for National Statistics Secure Research...</td>\n",
       "      <td>11/19/2019</td>\n",
       "    </tr>\n",
       "  </tbody>\n",
       "</table>\n",
       "</div>"
      ],
      "text/plain": [
       "  Project ID                                              Title  \\\n",
       "0   2019/003  The fall of the labour share and rise of the s...   \n",
       "1   2019/004  The changing nature of the HR and training pra...   \n",
       "2   2019/006  Analysis of victimisation data from the Crime ...   \n",
       "3   2019/007  Thriving Places index – indicators of wellbein...   \n",
       "4   2019/008  Class in UK creative industries: Beyond partic...   \n",
       "\n",
       "                                         Researchers  \\\n",
       "0   Carolin Ioramashvili, London School of Economics   \n",
       "1  Jonathan Boys, Chartered Institute of Personne...   \n",
       "2  Julian Molina, Office of the Victims' Commissi...   \n",
       "3  Soraya Safazadeh, Happy City Initiative\\nSaama...   \n",
       "4             Rebecca Florisson, The Work Foundation   \n",
       "\n",
       "                  Legal Basis  \\\n",
       "0  Digital Economy Act (2017)   \n",
       "1  Digital Economy Act (2017)   \n",
       "2  Digital Economy Act (2017)   \n",
       "3  Digital Economy Act (2017)   \n",
       "4  Digital Economy Act (2017)   \n",
       "\n",
       "                                       Datasets Used  \\\n",
       "0  Office for National Statistics: Annual Respond...   \n",
       "1  Office for National Statistics: Annual Populat...   \n",
       "2  Office for National Statistics: Crime Survey f...   \n",
       "3  Office for National Statistics: Labour Force S...   \n",
       "4  Office for National Statistics: Labour Force S...   \n",
       "\n",
       "                             Secure Research Service Accreditation Date  \n",
       "0  Office for National Statistics Secure Research...         10/25/2019  \n",
       "1  Office for National Statistics Secure Research...         10/25/2019  \n",
       "2  Office for National Statistics Secure Research...         10/14/2019  \n",
       "3  Office for National Statistics Secure Research...         10/14/2019  \n",
       "4  Office for National Statistics Secure Research...         11/19/2019  "
      ]
     },
     "execution_count": 222,
     "metadata": {},
     "output_type": "execute_result"
    }
   ],
   "source": [
    "df.head()"
   ]
  },
  {
   "cell_type": "code",
   "execution_count": 223,
   "id": "02fb95e5",
   "metadata": {},
   "outputs": [
    {
     "data": {
      "text/plain": [
       "Legal Basis\n",
       "Digital Economy Act (2017)                                                                                                                                                                                                                                                       1023\n",
       "Statistics and Registration Services Act 2007 (SRSA) - Approved Researcher Gateway: added data after 9 September 2021                                                                                                                                                              98\n",
       "Digital Economy Act 2017                                                                                                                                                                                                                                                           18\n",
       "Statistics and Registration Services Act 2007 (SRSA) - Approved Researcher Gateway: added data after 9 September 2021s Act 2007 (SRSA) - Approved Researcher Gateway: added data after 9 September 2021                                                                             5\n",
       "Digital Economy Act (2017)\\n\\nStatistics and Registration Services Act 2007 (SRSA) - Approved Researcher Gateway: added data after 9 September 2021s Act 2007 - Approved Researcher Gateway: added data after 9 September 2021                                                      3\n",
       "Statistics and Registration Services Act 2007 (SRSA) - Approved Researcher Gateway: added data after 9 September 2021s Act 2007 (SRSA) - Approved Researcher Gateway: added data after 9 September 2021s Act 2007 - Approved Researcher Gateway                                     1\n",
       "Digital Economy Act (2017)\\n\\nStatistics and Registration Services Act 2007 (SRSA) - Approved Researcher Gateway: added data after 9 September 2021s Act 2007 (SRSA) - Approved Researcher Gateway: added data after 9 September 2021s Act 2007 - Approved Researcher Gateway       1\n",
       "Digital Economy Act (2017) & Statistics and Registration Services Act 2007 (SRSA) - Approved Researcher Gateway: added data after 9 September 2021s Act 2007 (SRSA) - Approved Researcher Gateway: added data after 9 September 2021s Act 2007 - Approved Researcher Gateway        1\n",
       "Statistics and Registration Services Act 2007 (SRSA) - Approved Researcher Gateway: added data after 9 September 2021s Act 2007 (SRSA) - Approved Researcher Gateway: added data after 9 September 2021s Act 2007 - Approved Researcher Gatway                                      1\n",
       "Statistics and Registration Services Act 2007 (SRSA) - Approved Researcher Gateway: added data after 9 September 2021s Act 2007 (SRSA) - Approved Researcher Gateway: added data after 9 September 2021 Act                                                                         1\n",
       "Name: count, dtype: int64"
      ]
     },
     "execution_count": 223,
     "metadata": {},
     "output_type": "execute_result"
    }
   ],
   "source": [
    "df['Legal Basis'].value_counts()"
   ]
  },
  {
   "cell_type": "markdown",
   "id": "03a6a8fb",
   "metadata": {},
   "source": [
    "What's the difference between the DEA and SRSA? \n",
    "| Aspect                       | **SRSA (2007)**                                   | **DEA (2017)**                                                 |\n",
    "| ---------------------------- | ------------------------------------------------- | -------------------------------------------------------------- |\n",
    "| **Legal Authority**          | Statistics and Registration Service Act 2007      | Digital Economy Act 2017 – Chapter 5 (Research Strand)         |\n",
    "| **Main Data Custodian**      | Office for National Statistics (ONS) only         | Any specified public authority (incl. ONS, NHS, DWP, etc.) |\n",
    "| **Scope of Data Sharing**    | ONS data only                                     | Cross-government administrative data                           |\n",
    "| **Type of Research**         | Purely **statistical** purposes                   | Broader research (including policy evaluation)             |\n",
    "| **Researcher Accreditation** | Required – via UK Statistics Authority (UKSA)     | Required – same UKSA framework                                 |\n",
    "| **Secure Access Required**   | Yes (e.g. Secure Research Service)                | Yes (e.g. via an accredited processor or secure lab)           |\n",
    "| **Public Benefit Test**      | Yes                                               | Yes                                                            |\n",
    "| **Data Sharing Permissions** | Limited to non-identifying, statistical data only | Can include de-identified **admin** data for wider use         |\n",
    "| **Oversight Body**           | UK Statistics Authority (and ONS)                 | UK Statistics Authority (with DEA Governance Board input)      |\n",
    "\n",
    "\n"
   ]
  },
  {
   "cell_type": "code",
   "execution_count": 224,
   "id": "c92bfbd3",
   "metadata": {},
   "outputs": [
    {
     "data": {
      "text/plain": [
       "Legal Basis\n",
       "Digital Economy Act 2017    1041\n",
       "Name: count, dtype: int64"
      ]
     },
     "execution_count": 224,
     "metadata": {},
     "output_type": "execute_result"
    }
   ],
   "source": [
    "# Clean Legal Basis column by removing SRSA rows\n",
    "df = df[~df['Legal Basis'].str.contains('SRSA', na=False)]\n",
    "# tidy up DEA labels\n",
    "df['Legal Basis'] = df['Legal Basis'].str.replace('Digital Economy Act (2017)', 'Digital Economy Act 2017')\n",
    "df['Legal Basis'].value_counts()"
   ]
  },
  {
   "cell_type": "markdown",
   "id": "d1fcc389",
   "metadata": {},
   "source": []
  },
  {
   "cell_type": "code",
   "execution_count": 225,
   "id": "64a0c8d9",
   "metadata": {},
   "outputs": [
    {
     "data": {
      "text/plain": [
       "Project ID                 0\n",
       "Title                      0\n",
       "Researchers                2\n",
       "Legal Basis                0\n",
       "Datasets Used              0\n",
       "Secure Research Service    0\n",
       "Accreditation Date         0\n",
       "dtype: int64"
      ]
     },
     "execution_count": 225,
     "metadata": {},
     "output_type": "execute_result"
    }
   ],
   "source": [
    "df.isna().sum()"
   ]
  },
  {
   "cell_type": "code",
   "execution_count": 229,
   "id": "938e794e",
   "metadata": {},
   "outputs": [],
   "source": [
    "import re\n",
    "\n",
    "def extract_datasets(row):\n",
    "    \"\"\"\n",
    "    Extract dataset names from the 'Datasets Used' column.\n",
    "    Handles multiple data sources and newlines, but doesn't filter values.\n",
    "    \"\"\"\n",
    "    if pd.isna(row) or row == \"\":\n",
    "        return []\n",
    "    \n",
    "    # Replace newlines and normalize other separators\n",
    "    processed = row.replace(\"\\n\", \";\").replace(\"\\\\n\", \";\")\n",
    "    \n",
    "    results = []\n",
    "    \n",
    "    # Split by semicolons to handle multiple data sources\n",
    "    for entry in processed.split(\";\"):\n",
    "        entry = entry.strip()\n",
    "        if not entry:\n",
    "            continue\n",
    "        \n",
    "        # Handle the case with or without a data source (colon)\n",
    "        if \":\" in entry:\n",
    "            # Split only on the first colon\n",
    "            parts = entry.split(\":\", 1)\n",
    "            datasets = parts[1].strip()\n",
    "            \n",
    "            # Skip if there's nothing after the colon\n",
    "            if not datasets:\n",
    "                continue\n",
    "        else:\n",
    "            datasets = entry\n",
    "        \n",
    "        # Split by commas and process each dataset\n",
    "        for ds in datasets.split(\",\"):\n",
    "            ds = ds.strip()\n",
    "            \n",
    "            # Only skip empty strings\n",
    "            if not ds:\n",
    "                continue\n",
    "            \n",
    "            results.append(ds)\n",
    "    \n",
    "    return results"
   ]
  },
  {
   "cell_type": "code",
   "execution_count": null,
   "id": "cb121b08",
   "metadata": {},
   "outputs": [
    {
     "data": {
      "application/vnd.microsoft.datawrangler.viewer.v0+json": {
       "columns": [
        {
         "name": "index",
         "rawType": "int64",
         "type": "integer"
        },
        {
         "name": "dataset",
         "rawType": "object",
         "type": "string"
        },
        {
         "name": "count",
         "rawType": "int64",
         "type": "integer"
        }
       ],
       "conversionMethod": "pd.DataFrame",
       "ref": "56ef5cd5-36d3-49a6-9e2e-f1daab99cbf4",
       "rows": [
        [
         "0",
         "business structure database",
         "129"
        ],
        [
         "1",
         "annual business survey",
         "121"
        ],
        [
         "2",
         "annual population survey",
         "96"
        ],
        [
         "3",
         "annual survey of hours and earnings",
         "90"
        ],
        [
         "4",
         "business structure database - uk",
         "83"
        ],
        [
         "5",
         "uk innovation survey",
         "67"
        ],
        [
         "6",
         "longitudinal education outcomes srs iteration 2 standard extract - england",
         "50"
        ],
        [
         "7",
         "labour force survey",
         "48"
        ],
        [
         "8",
         "labour force survey person - uk",
         "40"
        ],
        [
         "9",
         "annual survey of hours and earnings - uk",
         "38"
        ],
        [
         "10",
         "annual business survey - gb",
         "38"
        ],
        [
         "11",
         "annual respondents database",
         "36"
        ],
        [
         "12",
         "quarterly labour force survey",
         "33"
        ],
        [
         "13",
         "crime survey for england and wales",
         "31"
        ],
        [
         "14",
         "annual population survey - uk",
         "31"
        ],
        [
         "15",
         "business enterprise research and development - great britain",
         "30"
        ],
        [
         "16",
         "understanding society - uk",
         "29"
        ],
        [
         "17",
         "annual business survey - uk",
         "28"
        ],
        [
         "18",
         "nhs",
         "25"
        ],
        [
         "19",
         "understanding society",
         "24"
        ],
        [
         "20",
         "annual respondents database x - uk",
         "23"
        ],
        [
         "21",
         "business enterprise research and development",
         "22"
        ],
        [
         "22",
         "living costs and food survey",
         "21"
        ],
        [
         "23",
         "annual respondents database x",
         "21"
        ],
        [
         "24",
         "labour force survey household - uk",
         "21"
        ],
        [
         "25",
         "business register employment survey - uk",
         "21"
        ],
        [
         "26",
         "labour force survey longitudinal - uk",
         "20"
        ],
        [
         "27",
         "education and child health insights from linked data - england",
         "20"
        ],
        [
         "28",
         "longitudinal study of england and wales",
         "19"
        ],
        [
         "29",
         "longitudinal small business survey",
         "19"
        ],
        [
         "30",
         "annual survey of hours and earnings longitudinal - uk",
         "19"
        ],
        [
         "31",
         "annual survey of hours and earnings - gb",
         "18"
        ],
        [
         "32",
         "2011 census data welsh residents",
         "18"
        ],
        [
         "33",
         "leo via srs iteration 1 standard extract",
         "17"
        ],
        [
         "34",
         "ons longitudinal study - england and wales",
         "17"
        ],
        [
         "35",
         "annual survey of hours and earnings linked to 2011 census - england and wales",
         "17"
        ],
        [
         "36",
         "labour force survey person",
         "15"
        ],
        [
         "37",
         "business register and employment survey",
         "15"
        ],
        [
         "38",
         "international trade in services",
         "14"
        ],
        [
         "39",
         "england and wales",
         "14"
        ],
        [
         "40",
         "international trade in services - uk",
         "14"
        ],
        [
         "41",
         "employer skills survey and investment in training - uk",
         "14"
        ],
        [
         "42",
         "wealth and assets survey",
         "13"
        ],
        [
         "43",
         "covid-19 infection survey",
         "13"
        ],
        [
         "44",
         "linked trade-in-goods/inter-departmental business register - uk",
         "13"
        ],
        [
         "45",
         "moj data first crown court defendant case level dataset",
         "12"
        ],
        [
         "46",
         "coronavirus and the social impacts on great britain",
         "12"
        ],
        [
         "47",
         "census 2021",
         "12"
        ],
        [
         "48",
         "death registrations",
         "12"
        ],
        [
         "49",
         "business register employment survey",
         "12"
        ]
       ],
       "shape": {
        "columns": 2,
        "rows": 671
       }
      },
      "text/html": [
       "<div>\n",
       "<style scoped>\n",
       "    .dataframe tbody tr th:only-of-type {\n",
       "        vertical-align: middle;\n",
       "    }\n",
       "\n",
       "    .dataframe tbody tr th {\n",
       "        vertical-align: top;\n",
       "    }\n",
       "\n",
       "    .dataframe thead th {\n",
       "        text-align: right;\n",
       "    }\n",
       "</style>\n",
       "<table border=\"1\" class=\"dataframe\">\n",
       "  <thead>\n",
       "    <tr style=\"text-align: right;\">\n",
       "      <th></th>\n",
       "      <th>dataset</th>\n",
       "      <th>count</th>\n",
       "    </tr>\n",
       "  </thead>\n",
       "  <tbody>\n",
       "    <tr>\n",
       "      <th>0</th>\n",
       "      <td>business structure database</td>\n",
       "      <td>129</td>\n",
       "    </tr>\n",
       "    <tr>\n",
       "      <th>1</th>\n",
       "      <td>annual business survey</td>\n",
       "      <td>121</td>\n",
       "    </tr>\n",
       "    <tr>\n",
       "      <th>2</th>\n",
       "      <td>annual population survey</td>\n",
       "      <td>96</td>\n",
       "    </tr>\n",
       "    <tr>\n",
       "      <th>3</th>\n",
       "      <td>annual survey of hours and earnings</td>\n",
       "      <td>90</td>\n",
       "    </tr>\n",
       "    <tr>\n",
       "      <th>4</th>\n",
       "      <td>business structure database - uk</td>\n",
       "      <td>83</td>\n",
       "    </tr>\n",
       "    <tr>\n",
       "      <th>...</th>\n",
       "      <td>...</td>\n",
       "      <td>...</td>\n",
       "    </tr>\n",
       "    <tr>\n",
       "      <th>666</th>\n",
       "      <td>2007-2021</td>\n",
       "      <td>1</td>\n",
       "    </tr>\n",
       "    <tr>\n",
       "      <th>667</th>\n",
       "      <td>census wales 2011</td>\n",
       "      <td>1</td>\n",
       "    </tr>\n",
       "    <tr>\n",
       "      <th>668</th>\n",
       "      <td>2005-2024</td>\n",
       "      <td>1</td>\n",
       "    </tr>\n",
       "    <tr>\n",
       "      <th>669</th>\n",
       "      <td>longitudinal small business survey uk</td>\n",
       "      <td>1</td>\n",
       "    </tr>\n",
       "    <tr>\n",
       "      <th>670</th>\n",
       "      <td>annual population survey longitudinal</td>\n",
       "      <td>1</td>\n",
       "    </tr>\n",
       "  </tbody>\n",
       "</table>\n",
       "<p>671 rows × 2 columns</p>\n",
       "</div>"
      ],
      "text/plain": [
       "                                   dataset  count\n",
       "0              business structure database    129\n",
       "1                   annual business survey    121\n",
       "2                 annual population survey     96\n",
       "3      annual survey of hours and earnings     90\n",
       "4         business structure database - uk     83\n",
       "..                                     ...    ...\n",
       "666                              2007-2021      1\n",
       "667                      census wales 2011      1\n",
       "668                              2005-2024      1\n",
       "669  longitudinal small business survey uk      1\n",
       "670  annual population survey longitudinal      1\n",
       "\n",
       "[671 rows x 2 columns]"
      ]
     },
     "execution_count": 232,
     "metadata": {},
     "output_type": "execute_result"
    }
   ],
   "source": [
    "# lowercase the datasets used column\n",
    "df[\"datasets_clean\"] = df[\"Datasets Used\"].str.lower()\n",
    "\n",
    "# apply the function to create a list of dataset names\n",
    "df[\"dataset_list\"] = df[\"datasets_clean\"].apply(lambda x: extract_datasets(x) if pd.notnull(x) else [])\n",
    "\n",
    "# explode the dataset list to one dataset per row\n",
    "df_exploded = df.explode(\"dataset_list\")\n",
    "\n",
    "all_datasets_df = df_exploded['dataset_list'].value_counts().reset_index()\n",
    "all_datasets_df.columns = ['dataset', 'count']\n",
    "all_datasets_df"
   ]
  },
  {
   "cell_type": "code",
   "execution_count": 234,
   "id": "33dd350c",
   "metadata": {},
   "outputs": [
    {
     "data": {
      "application/vnd.microsoft.datawrangler.viewer.v0+json": {
       "columns": [
        {
         "name": "index",
         "rawType": "int64",
         "type": "integer"
        },
        {
         "name": "Project ID",
         "rawType": "object",
         "type": "string"
        },
        {
         "name": "Title",
         "rawType": "object",
         "type": "string"
        },
        {
         "name": "Researchers",
         "rawType": "object",
         "type": "string"
        },
        {
         "name": "Legal Basis",
         "rawType": "object",
         "type": "string"
        },
        {
         "name": "Datasets Used",
         "rawType": "object",
         "type": "string"
        },
        {
         "name": "Secure Research Service",
         "rawType": "object",
         "type": "string"
        },
        {
         "name": "Accreditation Date",
         "rawType": "object",
         "type": "string"
        },
        {
         "name": "datasets_clean",
         "rawType": "object",
         "type": "string"
        },
        {
         "name": "dataset_list",
         "rawType": "object",
         "type": "string"
        }
       ],
       "conversionMethod": "pd.DataFrame",
       "ref": "e3d7b801-941c-4340-9c82-4b58b578ae59",
       "rows": [
        [
         "965",
         "2024/163",
         "Exploring the Impact of Clinical Diagnosis on Health and Education Outcomes for Children Receiving Special Educational Needs support for Autism",
         "Elizabeth Camacho, The University of Liverpool\nXingna Zhang, The University of Liverpool\nMark Green, The University of Liverpool",
         "Digital Economy Act 2017",
         "NHS; DfE: Education and Child Health Insights from Linked Data Research Database - England",
         "Office for National Statistics Secure Research Service",
         "27/08/2024",
         "nhs; dfe: education and child health insights from linked data research database - england",
         "nhs"
        ],
        [
         "972",
         "2024/197",
         "Evaluating the effects of the growing and uneven diagnosis of autism amongst young people in England",
         "David Frayman, The London School of Economics\nWill Mandy, University College London",
         "Digital Economy Act 2017",
         "NHS; DfE: Education and Child Health Insights from Linked Data - England",
         "Office for National Statistics Secure Research Service",
         "16/10/2024",
         "nhs; dfe: education and child health insights from linked data - england",
         "nhs"
        ],
        [
         "984",
         "2024/188",
         "Pathways through support services in neurodivergent children and young people who develop mental health conditions",
         "Simona Skripkauskaite, University of Oxford",
         "Digital Economy Act 2017",
         "NHS; DfE: Education and Child Health Insights from Linked Data - England",
         "Office for National Statistics Secure Research Service",
         "02/10/2024",
         "nhs; dfe: education and child health insights from linked data - england",
         "nhs"
        ],
        [
         "985",
         "2024/187",
         "Educational Outcomes after Paediatric Brain Injuries and the Role of Special Educational Needs Support",
         "Hope Kent, University of Exeter\nHuw Wiliams, University of Exeter\nGeorge Leckie, University of Bristol",
         "Digital Economy Act 2017",
         "NHS; DfE: Education and Child Health Insights from Linked Data - England",
         "Office for National Statistics Secure Research Service",
         "01/10/2024",
         "nhs; dfe: education and child health insights from linked data - england",
         "nhs"
        ],
        [
         "997",
         "2024/210",
         "MATCHED (Maternal mental health, Child Health & Emergency Department utilisation: impact on children's education and development outcomes in England).",
         "Stuart Jarvis, University of York",
         "Digital Economy Act 2017",
         "NHS; DfE: Education and Child Health Insights from Linked Data - England",
         "Office for National Statistics Secure Research Service",
         "30/10/2024",
         "nhs; dfe: education and child health insights from linked data - england",
         "nhs"
        ],
        [
         "1009",
         "2024/243",
         "Ethnic and migration variation and impact of acculturation on the incidence of severe mental illness and self-harm in young people in England",
         "Alua Yeskendir, University College London\nKate Lewis, University College London",
         "Digital Economy Act 2017",
         "NHS; DfE: Education and Child Health Insights from Linked Data - England",
         "Office for National Statistics Secure Research Service",
         "06/12/2024",
         "nhs; dfe: education and child health insights from linked data - england",
         "nhs"
        ],
        [
         "1015",
         "2025/017",
         "Out of Sight: Exclusions, Alternative Provision and Health Outcomes",
         "Kalyan Kumar Kameshwara, University of Nottingham\nKatherine Beynon, FFT Education Limited\nNatasha Plaister, FFT Education Limited\nRichard Dorsett, The University of Westminster\nDave Thomson, FFT Education Limited\nDavid Bibby, FFT Education Limited\nVeruska Oppedisano, The University of Westminster",
         "Digital Economy Act 2017",
         "NHS; DfE: Education and Child Health Insights from Linked Data - England",
         "Office for National Statistics Secure Research Service",
         "28/01/2025",
         "nhs; dfe: education and child health insights from linked data - england",
         "nhs"
        ],
        [
         "1024",
         "2024/237",
         "The Burden of Child Sexual Exploitation and Abuse in England: Effects on Educational Attainment",
         "Patricio Troncoso, The University of Edinburgh\nInga Vermeulen, The University of Edinburgh\nAnna Krzeczkowska, The University of Edinburgh",
         "Digital Economy Act 2017",
         "NHS; DfE: Education and Child Health Insights from Linked Data - England",
         "Office for National Statistics Secure Research Service",
         "05/12/2024",
         "nhs; dfe: education and child health insights from linked data - england",
         "nhs"
        ],
        [
         "1031",
         "2024/216",
         "Psychosocial disadvantage in pregnancy: risk of severe maternal morbidity and adverse perinatal outcomes and the role of antenatal care.",
         "Rema Ramakrishnan, University of Oxford\nNicola Vousden, University of Oxford\nKatie Harron, University College London\nMarian Knight, University of Oxford",
         "Digital Economy Act 2017",
         "NHS; DfE: Education and Child Health Insights from Linked Data - England",
         "Office for National Statistics Secure Research Service",
         "08/11/2024",
         "nhs; dfe: education and child health insights from linked data - england",
         "nhs"
        ],
        [
         "1042",
         "2024/230",
         "Health-related Outcomes, alternative Provision, and Exclusion among pupils with neurodivergent Special Educational Needs (HOPE-SEN)",
         "Justin Yang, University College London",
         "Digital Economy Act 2017",
         "NHS; DfE: Education and Child Health Insights from Linked Data - England",
         "Office for National Statistics Secure Research Service",
         "03/12/2024",
         "nhs; dfe: education and child health insights from linked data - england",
         "nhs"
        ],
        [
         "1046",
         "2025/001",
         "Health and Educational Outcomes of Children with Sickle Cell Disease in England",
         "Alastair Sutcliffe, University College London\nYan Lu, University College London",
         "Digital Economy Act 2017",
         "NHS; DfE: Education and Child Health Insights from Linked Data - England",
         "Office for National Statistics Secure Research Service",
         "13/01/2025",
         "nhs; dfe: education and child health insights from linked data - england",
         "nhs"
        ],
        [
         "1051",
         "2024/215",
         "Tackling child health inequality. An interventional epidemiology platform to inform policy.",
         "Lateef Akanni, The University of Liverpool\nYu Wei Chua, The University of Liverpool\nDavara Bennett, The University of Liverpool\nPhilip McHale, The University of Liverpool",
         "Digital Economy Act 2017",
         "NHS; DfE: Education and Child Health Insights from Linked Data - England",
         "Office for National Statistics Secure Research Service",
         "11/11/2024",
         "nhs; dfe: education and child health insights from linked data - england",
         "nhs"
        ],
        [
         "1052",
         "2025/018",
         "Women’s mental illness in pregnancy: Exploring contact with secondary mental health services and links with offspring health and education outcomes.",
         "Jayati Das-Munshi, King's College London\nMatthias Pierce, The University of Manchester\nYasmin Ahmadzadeh, King's College London\nJan Van Der Meulen, London School of Hygiene and Tropical Medicine",
         "Digital Economy Act 2017",
         "NHS; DfE: Education and Child Health Insights from Linked Data - England",
         "Office for National Statistics Secure Research Service",
         "22/01/2025",
         "nhs; dfe: education and child health insights from linked data - england",
         "nhs"
        ],
        [
         "1054",
         "2024/226",
         "Understanding Anxiety, Stress and Depression in Students with Special Educational Needs",
         "Stephen Gorard, University of Durham\nNadia Siddiqui, University of Durham\nJohny Daniel, University of Durham",
         "Digital Economy Act 2017",
         "NHS; DfE: Education and Child Health Insights from Linked Data - England",
         "Office for National Statistics Secure Research Service",
         "19/11/2024",
         "nhs; dfe: education and child health insights from linked data - england",
         "nhs"
        ],
        [
         "1065",
         "2025/045",
         "Effects of Air Quality on health and human capital outcomes of children",
         "Ludovica Gazze, University of Warwick\nLorenzo Neri, University of St Andrews\nTitir Bhattacharya, University of Warwick",
         "Digital Economy Act 2017",
         "NHS; DfE: Education and Child Health Insights from Linked Data - England",
         "Office for National Statistics Secure Research Service",
         "24/02/2025",
         "nhs; dfe: education and child health insights from linked data - england",
         "nhs"
        ],
        [
         "1071",
         "2025/047",
         "Exploring Neurodivergence in Education: A Comparative Longitudinal Study on its Influences, Impacts, and Contextual Changes",
         "Emily Lowthian, Swansea University\nJennifer Keating, Cardiff University\nGeorge Leckie, University of Bristol",
         "Digital Economy Act 2017",
         "NHS; DfE: Education and Child Health Insights from Linked Data - England",
         "Office for National Statistics Secure Research Service",
         "21/02/2025",
         "nhs; dfe: education and child health insights from linked data - england",
         "nhs"
        ],
        [
         "1073",
         "2025/050",
         "Early Childhood Health Shocks and Education Outcomes of Children",
         "Angel Marcos Vera Hernandez, University College London\nJiangnan Liao, University College London",
         "Digital Economy Act 2017",
         "NHS; DfE: Education and Child Health Insights from Linked Data - England",
         "Office for National Statistics Secure Research Service",
         "24/02/2025",
         "nhs; dfe: education and child health insights from linked data - england",
         "nhs"
        ],
        [
         "1079",
         "2025/032",
         "Risk factors for severe mental health outcomes among young people: a national cohort study",
         "Jessica Griffiths, King's College London\nNeil Davies, University College London\nPhoebe Barnett, University College London",
         "Digital Economy Act 2017",
         "NHS; DfE: Education and Child Health Insights from Linked Data - England",
         "Office for National Statistics Secure Research Service",
         "03/02/2025",
         "nhs; dfe: education and child health insights from linked data - england",
         "nhs"
        ],
        [
         "1080",
         "2025/034",
         "Educational Attainment and Chronic Conditions Among Children and Young People: Evidence from Linked Administrative Data",
         "Keyao Deng, University College London\nRichard Silverwood, University College London\nLiam Wright, University College London",
         "Digital Economy Act 2017",
         "NHS; DfE: Education and Child Health Insights from Linked Data - England",
         "Office for National Statistics Secure Research Service",
         "05/02/2025",
         "nhs; dfe: education and child health insights from linked data - england",
         "nhs"
        ],
        [
         "1097",
         "2025/079",
         "“Birth and Beyond: Delivery Modes, Maternal Health, and Child Development in England”",
         "Emilia Del Bono, University of Essex\nEmily Grundy, University of Essex\nLaura Fumagalli, University of Essex",
         "Digital Economy Act 2017",
         "NHS; DfE: Education and Child Health Insights from Linked Data - England",
         "Office for National Statistics Secure Research Service",
         "18/03/2025",
         "nhs; dfe: education and child health insights from linked data - england",
         "nhs"
        ],
        [
         "1100",
         "2025/094",
         "The long-term impact of school exclusion on risk behaviour: A retrospective cohort study",
         "Joan Madia, University of Oxford\nAlice Wickersham, King's College London\nCatia Nicodemo, University of Oxford",
         "Digital Economy Act 2017",
         "NHS; DfE: Education and Child Health Insights from Linked Data - England",
         "Office for National Statistics Secure Research Service",
         "02/04/2025",
         "nhs; dfe: education and child health insights from linked data - england",
         "nhs"
        ],
        [
         "1135",
         "2025/006",
         "The Human Capital Cost of Air Pollution",
         "Lucie Gadenne, Institute for Fiscal Studies\nSimon Upton, Institute for Fiscal Studies\nCamille Terrier, Queen Mary University of London\nRodrigo Toneto, Queen Mary University of London",
         "Digital Economy Act 2017",
         "NHS; DfE: Education and Child Health Insights from Linked Data",
         "Office for National Statistics Secure Research Service",
         "13/01/2025",
         "nhs; dfe: education and child health insights from linked data",
         "nhs"
        ],
        [
         "1137",
         "2025/010",
         "Effects of preconception health on improving and reducing inequalities in pregnancy and early childhood \nhealth, health service and educational outcomes",
         "Danielle Schoenaker, University of Southampton\nCatherine Stewart, University College London\nKatie Harron, University College London\nJohn Jairo Loja Torres, University of Southampton\nNisreen Alwan, University of Southampton",
         "Digital Economy Act 2017",
         "NHS; DfE: Education and Child Health Insights from Linked Data",
         "Office for National Statistics Secure Research Service",
         "15/01/2025",
         "nhs; dfe: education and child health insights from linked data",
         "nhs"
        ],
        [
         "1141",
         "2025/039",
         "Decoding the Signals from Classrooms: Early Warning System for Youth Mental Health Crises",
         "Huamao Wang, University of Nottingham",
         "Digital Economy Act 2017",
         "NHS; DfE: Education and Child Health Insights from Linked Data",
         "Office for National Statistics Secure Research Service",
         "12/02/2025",
         "nhs; dfe: education and child health insights from linked data",
         "nhs"
        ],
        [
         "1149",
         "2025/098",
         "The NoRePF Project: Improving maternal and child health and social inequalities for those with no \nrecourse to public funds and irregular immigration status",
         "Hannah Rayment-Jones, King's College London\nSam Burton, King's College London",
         "Digital Economy Act 2017",
         "NHS; DfE: Education and Child Health Insights from Linked Data",
         "Office for National Statistics Secure Research Service",
         "09/04/2025",
         "nhs; dfe: education and child health insights from linked data",
         "nhs"
        ]
       ],
       "shape": {
        "columns": 9,
        "rows": 25
       }
      },
      "text/html": [
       "<div>\n",
       "<style scoped>\n",
       "    .dataframe tbody tr th:only-of-type {\n",
       "        vertical-align: middle;\n",
       "    }\n",
       "\n",
       "    .dataframe tbody tr th {\n",
       "        vertical-align: top;\n",
       "    }\n",
       "\n",
       "    .dataframe thead th {\n",
       "        text-align: right;\n",
       "    }\n",
       "</style>\n",
       "<table border=\"1\" class=\"dataframe\">\n",
       "  <thead>\n",
       "    <tr style=\"text-align: right;\">\n",
       "      <th></th>\n",
       "      <th>Project ID</th>\n",
       "      <th>Title</th>\n",
       "      <th>Researchers</th>\n",
       "      <th>Legal Basis</th>\n",
       "      <th>Datasets Used</th>\n",
       "      <th>Secure Research Service</th>\n",
       "      <th>Accreditation Date</th>\n",
       "      <th>datasets_clean</th>\n",
       "      <th>dataset_list</th>\n",
       "    </tr>\n",
       "  </thead>\n",
       "  <tbody>\n",
       "    <tr>\n",
       "      <th>965</th>\n",
       "      <td>2024/163</td>\n",
       "      <td>Exploring the Impact of Clinical Diagnosis on ...</td>\n",
       "      <td>Elizabeth Camacho, The University of Liverpool...</td>\n",
       "      <td>Digital Economy Act 2017</td>\n",
       "      <td>NHS; DfE: Education and Child Health Insights ...</td>\n",
       "      <td>Office for National Statistics Secure Research...</td>\n",
       "      <td>27/08/2024</td>\n",
       "      <td>nhs; dfe: education and child health insights ...</td>\n",
       "      <td>nhs</td>\n",
       "    </tr>\n",
       "    <tr>\n",
       "      <th>972</th>\n",
       "      <td>2024/197</td>\n",
       "      <td>Evaluating the effects of the growing and unev...</td>\n",
       "      <td>David Frayman, The London School of Economics\\...</td>\n",
       "      <td>Digital Economy Act 2017</td>\n",
       "      <td>NHS; DfE: Education and Child Health Insights ...</td>\n",
       "      <td>Office for National Statistics Secure Research...</td>\n",
       "      <td>16/10/2024</td>\n",
       "      <td>nhs; dfe: education and child health insights ...</td>\n",
       "      <td>nhs</td>\n",
       "    </tr>\n",
       "    <tr>\n",
       "      <th>984</th>\n",
       "      <td>2024/188</td>\n",
       "      <td>Pathways through support services in neurodive...</td>\n",
       "      <td>Simona Skripkauskaite, University of Oxford</td>\n",
       "      <td>Digital Economy Act 2017</td>\n",
       "      <td>NHS; DfE: Education and Child Health Insights ...</td>\n",
       "      <td>Office for National Statistics Secure Research...</td>\n",
       "      <td>02/10/2024</td>\n",
       "      <td>nhs; dfe: education and child health insights ...</td>\n",
       "      <td>nhs</td>\n",
       "    </tr>\n",
       "    <tr>\n",
       "      <th>985</th>\n",
       "      <td>2024/187</td>\n",
       "      <td>Educational Outcomes after Paediatric Brain In...</td>\n",
       "      <td>Hope Kent, University of Exeter\\nHuw Wiliams, ...</td>\n",
       "      <td>Digital Economy Act 2017</td>\n",
       "      <td>NHS; DfE: Education and Child Health Insights ...</td>\n",
       "      <td>Office for National Statistics Secure Research...</td>\n",
       "      <td>01/10/2024</td>\n",
       "      <td>nhs; dfe: education and child health insights ...</td>\n",
       "      <td>nhs</td>\n",
       "    </tr>\n",
       "    <tr>\n",
       "      <th>997</th>\n",
       "      <td>2024/210</td>\n",
       "      <td>MATCHED (Maternal mental health, Child Health ...</td>\n",
       "      <td>Stuart Jarvis, University of York</td>\n",
       "      <td>Digital Economy Act 2017</td>\n",
       "      <td>NHS; DfE: Education and Child Health Insights ...</td>\n",
       "      <td>Office for National Statistics Secure Research...</td>\n",
       "      <td>30/10/2024</td>\n",
       "      <td>nhs; dfe: education and child health insights ...</td>\n",
       "      <td>nhs</td>\n",
       "    </tr>\n",
       "    <tr>\n",
       "      <th>1009</th>\n",
       "      <td>2024/243</td>\n",
       "      <td>Ethnic and migration variation and impact of a...</td>\n",
       "      <td>Alua Yeskendir, University College London\\nKat...</td>\n",
       "      <td>Digital Economy Act 2017</td>\n",
       "      <td>NHS; DfE: Education and Child Health Insights ...</td>\n",
       "      <td>Office for National Statistics Secure Research...</td>\n",
       "      <td>06/12/2024</td>\n",
       "      <td>nhs; dfe: education and child health insights ...</td>\n",
       "      <td>nhs</td>\n",
       "    </tr>\n",
       "    <tr>\n",
       "      <th>1015</th>\n",
       "      <td>2025/017</td>\n",
       "      <td>Out of Sight: Exclusions, Alternative Provisio...</td>\n",
       "      <td>Kalyan Kumar Kameshwara, University of Notting...</td>\n",
       "      <td>Digital Economy Act 2017</td>\n",
       "      <td>NHS; DfE: Education and Child Health Insights ...</td>\n",
       "      <td>Office for National Statistics Secure Research...</td>\n",
       "      <td>28/01/2025</td>\n",
       "      <td>nhs; dfe: education and child health insights ...</td>\n",
       "      <td>nhs</td>\n",
       "    </tr>\n",
       "    <tr>\n",
       "      <th>1024</th>\n",
       "      <td>2024/237</td>\n",
       "      <td>The Burden of Child Sexual Exploitation and Ab...</td>\n",
       "      <td>Patricio Troncoso, The University of Edinburgh...</td>\n",
       "      <td>Digital Economy Act 2017</td>\n",
       "      <td>NHS; DfE: Education and Child Health Insights ...</td>\n",
       "      <td>Office for National Statistics Secure Research...</td>\n",
       "      <td>05/12/2024</td>\n",
       "      <td>nhs; dfe: education and child health insights ...</td>\n",
       "      <td>nhs</td>\n",
       "    </tr>\n",
       "    <tr>\n",
       "      <th>1031</th>\n",
       "      <td>2024/216</td>\n",
       "      <td>Psychosocial disadvantage in pregnancy: risk o...</td>\n",
       "      <td>Rema Ramakrishnan, University of Oxford\\nNicol...</td>\n",
       "      <td>Digital Economy Act 2017</td>\n",
       "      <td>NHS; DfE: Education and Child Health Insights ...</td>\n",
       "      <td>Office for National Statistics Secure Research...</td>\n",
       "      <td>08/11/2024</td>\n",
       "      <td>nhs; dfe: education and child health insights ...</td>\n",
       "      <td>nhs</td>\n",
       "    </tr>\n",
       "    <tr>\n",
       "      <th>1042</th>\n",
       "      <td>2024/230</td>\n",
       "      <td>Health-related Outcomes, alternative Provision...</td>\n",
       "      <td>Justin Yang, University College London</td>\n",
       "      <td>Digital Economy Act 2017</td>\n",
       "      <td>NHS; DfE: Education and Child Health Insights ...</td>\n",
       "      <td>Office for National Statistics Secure Research...</td>\n",
       "      <td>03/12/2024</td>\n",
       "      <td>nhs; dfe: education and child health insights ...</td>\n",
       "      <td>nhs</td>\n",
       "    </tr>\n",
       "    <tr>\n",
       "      <th>1046</th>\n",
       "      <td>2025/001</td>\n",
       "      <td>Health and Educational Outcomes of Children wi...</td>\n",
       "      <td>Alastair Sutcliffe, University College London\\...</td>\n",
       "      <td>Digital Economy Act 2017</td>\n",
       "      <td>NHS; DfE: Education and Child Health Insights ...</td>\n",
       "      <td>Office for National Statistics Secure Research...</td>\n",
       "      <td>13/01/2025</td>\n",
       "      <td>nhs; dfe: education and child health insights ...</td>\n",
       "      <td>nhs</td>\n",
       "    </tr>\n",
       "    <tr>\n",
       "      <th>1051</th>\n",
       "      <td>2024/215</td>\n",
       "      <td>Tackling child health inequality. An intervent...</td>\n",
       "      <td>Lateef Akanni, The University of Liverpool\\nYu...</td>\n",
       "      <td>Digital Economy Act 2017</td>\n",
       "      <td>NHS; DfE: Education and Child Health Insights ...</td>\n",
       "      <td>Office for National Statistics Secure Research...</td>\n",
       "      <td>11/11/2024</td>\n",
       "      <td>nhs; dfe: education and child health insights ...</td>\n",
       "      <td>nhs</td>\n",
       "    </tr>\n",
       "    <tr>\n",
       "      <th>1052</th>\n",
       "      <td>2025/018</td>\n",
       "      <td>Women’s mental illness in pregnancy: Exploring...</td>\n",
       "      <td>Jayati Das-Munshi, King's College London\\nMatt...</td>\n",
       "      <td>Digital Economy Act 2017</td>\n",
       "      <td>NHS; DfE: Education and Child Health Insights ...</td>\n",
       "      <td>Office for National Statistics Secure Research...</td>\n",
       "      <td>22/01/2025</td>\n",
       "      <td>nhs; dfe: education and child health insights ...</td>\n",
       "      <td>nhs</td>\n",
       "    </tr>\n",
       "    <tr>\n",
       "      <th>1054</th>\n",
       "      <td>2024/226</td>\n",
       "      <td>Understanding Anxiety, Stress and Depression i...</td>\n",
       "      <td>Stephen Gorard, University of Durham\\nNadia Si...</td>\n",
       "      <td>Digital Economy Act 2017</td>\n",
       "      <td>NHS; DfE: Education and Child Health Insights ...</td>\n",
       "      <td>Office for National Statistics Secure Research...</td>\n",
       "      <td>19/11/2024</td>\n",
       "      <td>nhs; dfe: education and child health insights ...</td>\n",
       "      <td>nhs</td>\n",
       "    </tr>\n",
       "    <tr>\n",
       "      <th>1065</th>\n",
       "      <td>2025/045</td>\n",
       "      <td>Effects of Air Quality on health and human cap...</td>\n",
       "      <td>Ludovica Gazze, University of Warwick\\nLorenzo...</td>\n",
       "      <td>Digital Economy Act 2017</td>\n",
       "      <td>NHS; DfE: Education and Child Health Insights ...</td>\n",
       "      <td>Office for National Statistics Secure Research...</td>\n",
       "      <td>24/02/2025</td>\n",
       "      <td>nhs; dfe: education and child health insights ...</td>\n",
       "      <td>nhs</td>\n",
       "    </tr>\n",
       "    <tr>\n",
       "      <th>1071</th>\n",
       "      <td>2025/047</td>\n",
       "      <td>Exploring Neurodivergence in Education: A Comp...</td>\n",
       "      <td>Emily Lowthian, Swansea University\\nJennifer K...</td>\n",
       "      <td>Digital Economy Act 2017</td>\n",
       "      <td>NHS; DfE: Education and Child Health Insights ...</td>\n",
       "      <td>Office for National Statistics Secure Research...</td>\n",
       "      <td>21/02/2025</td>\n",
       "      <td>nhs; dfe: education and child health insights ...</td>\n",
       "      <td>nhs</td>\n",
       "    </tr>\n",
       "    <tr>\n",
       "      <th>1073</th>\n",
       "      <td>2025/050</td>\n",
       "      <td>Early Childhood Health Shocks and Education Ou...</td>\n",
       "      <td>Angel Marcos Vera Hernandez, University Colleg...</td>\n",
       "      <td>Digital Economy Act 2017</td>\n",
       "      <td>NHS; DfE: Education and Child Health Insights ...</td>\n",
       "      <td>Office for National Statistics Secure Research...</td>\n",
       "      <td>24/02/2025</td>\n",
       "      <td>nhs; dfe: education and child health insights ...</td>\n",
       "      <td>nhs</td>\n",
       "    </tr>\n",
       "    <tr>\n",
       "      <th>1079</th>\n",
       "      <td>2025/032</td>\n",
       "      <td>Risk factors for severe mental health outcomes...</td>\n",
       "      <td>Jessica Griffiths, King's College London\\nNeil...</td>\n",
       "      <td>Digital Economy Act 2017</td>\n",
       "      <td>NHS; DfE: Education and Child Health Insights ...</td>\n",
       "      <td>Office for National Statistics Secure Research...</td>\n",
       "      <td>03/02/2025</td>\n",
       "      <td>nhs; dfe: education and child health insights ...</td>\n",
       "      <td>nhs</td>\n",
       "    </tr>\n",
       "    <tr>\n",
       "      <th>1080</th>\n",
       "      <td>2025/034</td>\n",
       "      <td>Educational Attainment and Chronic Conditions ...</td>\n",
       "      <td>Keyao Deng, University College London\\nRichard...</td>\n",
       "      <td>Digital Economy Act 2017</td>\n",
       "      <td>NHS; DfE: Education and Child Health Insights ...</td>\n",
       "      <td>Office for National Statistics Secure Research...</td>\n",
       "      <td>05/02/2025</td>\n",
       "      <td>nhs; dfe: education and child health insights ...</td>\n",
       "      <td>nhs</td>\n",
       "    </tr>\n",
       "    <tr>\n",
       "      <th>1097</th>\n",
       "      <td>2025/079</td>\n",
       "      <td>“Birth and Beyond: Delivery Modes, Maternal He...</td>\n",
       "      <td>Emilia Del Bono, University of Essex\\nEmily Gr...</td>\n",
       "      <td>Digital Economy Act 2017</td>\n",
       "      <td>NHS; DfE: Education and Child Health Insights ...</td>\n",
       "      <td>Office for National Statistics Secure Research...</td>\n",
       "      <td>18/03/2025</td>\n",
       "      <td>nhs; dfe: education and child health insights ...</td>\n",
       "      <td>nhs</td>\n",
       "    </tr>\n",
       "    <tr>\n",
       "      <th>1100</th>\n",
       "      <td>2025/094</td>\n",
       "      <td>The long-term impact of school exclusion on ri...</td>\n",
       "      <td>Joan Madia, University of Oxford\\nAlice Wicker...</td>\n",
       "      <td>Digital Economy Act 2017</td>\n",
       "      <td>NHS; DfE: Education and Child Health Insights ...</td>\n",
       "      <td>Office for National Statistics Secure Research...</td>\n",
       "      <td>02/04/2025</td>\n",
       "      <td>nhs; dfe: education and child health insights ...</td>\n",
       "      <td>nhs</td>\n",
       "    </tr>\n",
       "    <tr>\n",
       "      <th>1135</th>\n",
       "      <td>2025/006</td>\n",
       "      <td>The Human Capital Cost of Air Pollution</td>\n",
       "      <td>Lucie Gadenne, Institute for Fiscal Studies\\nS...</td>\n",
       "      <td>Digital Economy Act 2017</td>\n",
       "      <td>NHS; DfE: Education and Child Health Insights ...</td>\n",
       "      <td>Office for National Statistics Secure Research...</td>\n",
       "      <td>13/01/2025</td>\n",
       "      <td>nhs; dfe: education and child health insights ...</td>\n",
       "      <td>nhs</td>\n",
       "    </tr>\n",
       "    <tr>\n",
       "      <th>1137</th>\n",
       "      <td>2025/010</td>\n",
       "      <td>Effects of preconception health on improving a...</td>\n",
       "      <td>Danielle Schoenaker, University of Southampton...</td>\n",
       "      <td>Digital Economy Act 2017</td>\n",
       "      <td>NHS; DfE: Education and Child Health Insights ...</td>\n",
       "      <td>Office for National Statistics Secure Research...</td>\n",
       "      <td>15/01/2025</td>\n",
       "      <td>nhs; dfe: education and child health insights ...</td>\n",
       "      <td>nhs</td>\n",
       "    </tr>\n",
       "    <tr>\n",
       "      <th>1141</th>\n",
       "      <td>2025/039</td>\n",
       "      <td>Decoding the Signals from Classrooms: Early Wa...</td>\n",
       "      <td>Huamao Wang, University of Nottingham</td>\n",
       "      <td>Digital Economy Act 2017</td>\n",
       "      <td>NHS; DfE: Education and Child Health Insights ...</td>\n",
       "      <td>Office for National Statistics Secure Research...</td>\n",
       "      <td>12/02/2025</td>\n",
       "      <td>nhs; dfe: education and child health insights ...</td>\n",
       "      <td>nhs</td>\n",
       "    </tr>\n",
       "    <tr>\n",
       "      <th>1149</th>\n",
       "      <td>2025/098</td>\n",
       "      <td>The NoRePF Project: Improving maternal and chi...</td>\n",
       "      <td>Hannah Rayment-Jones, King's College London\\nS...</td>\n",
       "      <td>Digital Economy Act 2017</td>\n",
       "      <td>NHS; DfE: Education and Child Health Insights ...</td>\n",
       "      <td>Office for National Statistics Secure Research...</td>\n",
       "      <td>09/04/2025</td>\n",
       "      <td>nhs; dfe: education and child health insights ...</td>\n",
       "      <td>nhs</td>\n",
       "    </tr>\n",
       "  </tbody>\n",
       "</table>\n",
       "</div>"
      ],
      "text/plain": [
       "     Project ID                                              Title  \\\n",
       "965    2024/163  Exploring the Impact of Clinical Diagnosis on ...   \n",
       "972    2024/197  Evaluating the effects of the growing and unev...   \n",
       "984    2024/188  Pathways through support services in neurodive...   \n",
       "985    2024/187  Educational Outcomes after Paediatric Brain In...   \n",
       "997    2024/210  MATCHED (Maternal mental health, Child Health ...   \n",
       "1009   2024/243  Ethnic and migration variation and impact of a...   \n",
       "1015   2025/017  Out of Sight: Exclusions, Alternative Provisio...   \n",
       "1024   2024/237  The Burden of Child Sexual Exploitation and Ab...   \n",
       "1031   2024/216  Psychosocial disadvantage in pregnancy: risk o...   \n",
       "1042   2024/230  Health-related Outcomes, alternative Provision...   \n",
       "1046   2025/001  Health and Educational Outcomes of Children wi...   \n",
       "1051   2024/215  Tackling child health inequality. An intervent...   \n",
       "1052   2025/018  Women’s mental illness in pregnancy: Exploring...   \n",
       "1054   2024/226  Understanding Anxiety, Stress and Depression i...   \n",
       "1065   2025/045  Effects of Air Quality on health and human cap...   \n",
       "1071   2025/047  Exploring Neurodivergence in Education: A Comp...   \n",
       "1073   2025/050  Early Childhood Health Shocks and Education Ou...   \n",
       "1079   2025/032  Risk factors for severe mental health outcomes...   \n",
       "1080   2025/034  Educational Attainment and Chronic Conditions ...   \n",
       "1097   2025/079  “Birth and Beyond: Delivery Modes, Maternal He...   \n",
       "1100   2025/094  The long-term impact of school exclusion on ri...   \n",
       "1135   2025/006            The Human Capital Cost of Air Pollution   \n",
       "1137   2025/010  Effects of preconception health on improving a...   \n",
       "1141   2025/039  Decoding the Signals from Classrooms: Early Wa...   \n",
       "1149   2025/098  The NoRePF Project: Improving maternal and chi...   \n",
       "\n",
       "                                            Researchers  \\\n",
       "965   Elizabeth Camacho, The University of Liverpool...   \n",
       "972   David Frayman, The London School of Economics\\...   \n",
       "984         Simona Skripkauskaite, University of Oxford   \n",
       "985   Hope Kent, University of Exeter\\nHuw Wiliams, ...   \n",
       "997                   Stuart Jarvis, University of York   \n",
       "1009  Alua Yeskendir, University College London\\nKat...   \n",
       "1015  Kalyan Kumar Kameshwara, University of Notting...   \n",
       "1024  Patricio Troncoso, The University of Edinburgh...   \n",
       "1031  Rema Ramakrishnan, University of Oxford\\nNicol...   \n",
       "1042             Justin Yang, University College London   \n",
       "1046  Alastair Sutcliffe, University College London\\...   \n",
       "1051  Lateef Akanni, The University of Liverpool\\nYu...   \n",
       "1052  Jayati Das-Munshi, King's College London\\nMatt...   \n",
       "1054  Stephen Gorard, University of Durham\\nNadia Si...   \n",
       "1065  Ludovica Gazze, University of Warwick\\nLorenzo...   \n",
       "1071  Emily Lowthian, Swansea University\\nJennifer K...   \n",
       "1073  Angel Marcos Vera Hernandez, University Colleg...   \n",
       "1079  Jessica Griffiths, King's College London\\nNeil...   \n",
       "1080  Keyao Deng, University College London\\nRichard...   \n",
       "1097  Emilia Del Bono, University of Essex\\nEmily Gr...   \n",
       "1100  Joan Madia, University of Oxford\\nAlice Wicker...   \n",
       "1135  Lucie Gadenne, Institute for Fiscal Studies\\nS...   \n",
       "1137  Danielle Schoenaker, University of Southampton...   \n",
       "1141              Huamao Wang, University of Nottingham   \n",
       "1149  Hannah Rayment-Jones, King's College London\\nS...   \n",
       "\n",
       "                   Legal Basis  \\\n",
       "965   Digital Economy Act 2017   \n",
       "972   Digital Economy Act 2017   \n",
       "984   Digital Economy Act 2017   \n",
       "985   Digital Economy Act 2017   \n",
       "997   Digital Economy Act 2017   \n",
       "1009  Digital Economy Act 2017   \n",
       "1015  Digital Economy Act 2017   \n",
       "1024  Digital Economy Act 2017   \n",
       "1031  Digital Economy Act 2017   \n",
       "1042  Digital Economy Act 2017   \n",
       "1046  Digital Economy Act 2017   \n",
       "1051  Digital Economy Act 2017   \n",
       "1052  Digital Economy Act 2017   \n",
       "1054  Digital Economy Act 2017   \n",
       "1065  Digital Economy Act 2017   \n",
       "1071  Digital Economy Act 2017   \n",
       "1073  Digital Economy Act 2017   \n",
       "1079  Digital Economy Act 2017   \n",
       "1080  Digital Economy Act 2017   \n",
       "1097  Digital Economy Act 2017   \n",
       "1100  Digital Economy Act 2017   \n",
       "1135  Digital Economy Act 2017   \n",
       "1137  Digital Economy Act 2017   \n",
       "1141  Digital Economy Act 2017   \n",
       "1149  Digital Economy Act 2017   \n",
       "\n",
       "                                          Datasets Used  \\\n",
       "965   NHS; DfE: Education and Child Health Insights ...   \n",
       "972   NHS; DfE: Education and Child Health Insights ...   \n",
       "984   NHS; DfE: Education and Child Health Insights ...   \n",
       "985   NHS; DfE: Education and Child Health Insights ...   \n",
       "997   NHS; DfE: Education and Child Health Insights ...   \n",
       "1009  NHS; DfE: Education and Child Health Insights ...   \n",
       "1015  NHS; DfE: Education and Child Health Insights ...   \n",
       "1024  NHS; DfE: Education and Child Health Insights ...   \n",
       "1031  NHS; DfE: Education and Child Health Insights ...   \n",
       "1042  NHS; DfE: Education and Child Health Insights ...   \n",
       "1046  NHS; DfE: Education and Child Health Insights ...   \n",
       "1051  NHS; DfE: Education and Child Health Insights ...   \n",
       "1052  NHS; DfE: Education and Child Health Insights ...   \n",
       "1054  NHS; DfE: Education and Child Health Insights ...   \n",
       "1065  NHS; DfE: Education and Child Health Insights ...   \n",
       "1071  NHS; DfE: Education and Child Health Insights ...   \n",
       "1073  NHS; DfE: Education and Child Health Insights ...   \n",
       "1079  NHS; DfE: Education and Child Health Insights ...   \n",
       "1080  NHS; DfE: Education and Child Health Insights ...   \n",
       "1097  NHS; DfE: Education and Child Health Insights ...   \n",
       "1100  NHS; DfE: Education and Child Health Insights ...   \n",
       "1135  NHS; DfE: Education and Child Health Insights ...   \n",
       "1137  NHS; DfE: Education and Child Health Insights ...   \n",
       "1141  NHS; DfE: Education and Child Health Insights ...   \n",
       "1149  NHS; DfE: Education and Child Health Insights ...   \n",
       "\n",
       "                                Secure Research Service Accreditation Date  \\\n",
       "965   Office for National Statistics Secure Research...         27/08/2024   \n",
       "972   Office for National Statistics Secure Research...         16/10/2024   \n",
       "984   Office for National Statistics Secure Research...         02/10/2024   \n",
       "985   Office for National Statistics Secure Research...         01/10/2024   \n",
       "997   Office for National Statistics Secure Research...         30/10/2024   \n",
       "1009  Office for National Statistics Secure Research...         06/12/2024   \n",
       "1015  Office for National Statistics Secure Research...         28/01/2025   \n",
       "1024  Office for National Statistics Secure Research...         05/12/2024   \n",
       "1031  Office for National Statistics Secure Research...         08/11/2024   \n",
       "1042  Office for National Statistics Secure Research...         03/12/2024   \n",
       "1046  Office for National Statistics Secure Research...         13/01/2025   \n",
       "1051  Office for National Statistics Secure Research...         11/11/2024   \n",
       "1052  Office for National Statistics Secure Research...         22/01/2025   \n",
       "1054  Office for National Statistics Secure Research...         19/11/2024   \n",
       "1065  Office for National Statistics Secure Research...         24/02/2025   \n",
       "1071  Office for National Statistics Secure Research...         21/02/2025   \n",
       "1073  Office for National Statistics Secure Research...         24/02/2025   \n",
       "1079  Office for National Statistics Secure Research...         03/02/2025   \n",
       "1080  Office for National Statistics Secure Research...         05/02/2025   \n",
       "1097  Office for National Statistics Secure Research...         18/03/2025   \n",
       "1100  Office for National Statistics Secure Research...         02/04/2025   \n",
       "1135  Office for National Statistics Secure Research...         13/01/2025   \n",
       "1137  Office for National Statistics Secure Research...         15/01/2025   \n",
       "1141  Office for National Statistics Secure Research...         12/02/2025   \n",
       "1149  Office for National Statistics Secure Research...         09/04/2025   \n",
       "\n",
       "                                         datasets_clean dataset_list  \n",
       "965   nhs; dfe: education and child health insights ...          nhs  \n",
       "972   nhs; dfe: education and child health insights ...          nhs  \n",
       "984   nhs; dfe: education and child health insights ...          nhs  \n",
       "985   nhs; dfe: education and child health insights ...          nhs  \n",
       "997   nhs; dfe: education and child health insights ...          nhs  \n",
       "1009  nhs; dfe: education and child health insights ...          nhs  \n",
       "1015  nhs; dfe: education and child health insights ...          nhs  \n",
       "1024  nhs; dfe: education and child health insights ...          nhs  \n",
       "1031  nhs; dfe: education and child health insights ...          nhs  \n",
       "1042  nhs; dfe: education and child health insights ...          nhs  \n",
       "1046  nhs; dfe: education and child health insights ...          nhs  \n",
       "1051  nhs; dfe: education and child health insights ...          nhs  \n",
       "1052  nhs; dfe: education and child health insights ...          nhs  \n",
       "1054  nhs; dfe: education and child health insights ...          nhs  \n",
       "1065  nhs; dfe: education and child health insights ...          nhs  \n",
       "1071  nhs; dfe: education and child health insights ...          nhs  \n",
       "1073  nhs; dfe: education and child health insights ...          nhs  \n",
       "1079  nhs; dfe: education and child health insights ...          nhs  \n",
       "1080  nhs; dfe: education and child health insights ...          nhs  \n",
       "1097  nhs; dfe: education and child health insights ...          nhs  \n",
       "1100  nhs; dfe: education and child health insights ...          nhs  \n",
       "1135  nhs; dfe: education and child health insights ...          nhs  \n",
       "1137  nhs; dfe: education and child health insights ...          nhs  \n",
       "1141  nhs; dfe: education and child health insights ...          nhs  \n",
       "1149  nhs; dfe: education and child health insights ...          nhs  "
      ]
     },
     "execution_count": 234,
     "metadata": {},
     "output_type": "execute_result"
    }
   ],
   "source": [
    "df_exploded[df_exploded['dataset_list'] == 'nhs']"
   ]
  },
  {
   "cell_type": "code",
   "execution_count": 236,
   "id": "fb9e8624",
   "metadata": {},
   "outputs": [
    {
     "data": {
      "application/vnd.microsoft.datawrangler.viewer.v0+json": {
       "columns": [
        {
         "name": "index",
         "rawType": "int64",
         "type": "integer"
        },
        {
         "name": "Project ID",
         "rawType": "object",
         "type": "string"
        },
        {
         "name": "Title",
         "rawType": "object",
         "type": "string"
        },
        {
         "name": "Researchers",
         "rawType": "object",
         "type": "string"
        },
        {
         "name": "Legal Basis",
         "rawType": "object",
         "type": "string"
        },
        {
         "name": "Datasets Used",
         "rawType": "object",
         "type": "string"
        },
        {
         "name": "Secure Research Service",
         "rawType": "object",
         "type": "string"
        },
        {
         "name": "Accreditation Date",
         "rawType": "object",
         "type": "string"
        },
        {
         "name": "datasets_clean",
         "rawType": "object",
         "type": "string"
        },
        {
         "name": "dataset_list",
         "rawType": "object",
         "type": "string"
        }
       ],
       "conversionMethod": "pd.DataFrame",
       "ref": "776f83a5-f654-4fa0-8f0c-d5efbe5050e8",
       "rows": [
        [
         "965",
         "2024/163",
         "Exploring the Impact of Clinical Diagnosis on Health and Education Outcomes for Children Receiving Special Educational Needs support for Autism",
         "Elizabeth Camacho, The University of Liverpool\nXingna Zhang, The University of Liverpool\nMark Green, The University of Liverpool",
         "Digital Economy Act 2017",
         "NHS; DfE: Education and Child Health Insights from Linked Data Research Database - England",
         "Office for National Statistics Secure Research Service",
         "27/08/2024",
         "nhs; dfe: education and child health insights from linked data research database - england",
         "nhs"
        ],
        [
         "965",
         "2024/163",
         "Exploring the Impact of Clinical Diagnosis on Health and Education Outcomes for Children Receiving Special Educational Needs support for Autism",
         "Elizabeth Camacho, The University of Liverpool\nXingna Zhang, The University of Liverpool\nMark Green, The University of Liverpool",
         "Digital Economy Act 2017",
         "NHS; DfE: Education and Child Health Insights from Linked Data Research Database - England",
         "Office for National Statistics Secure Research Service",
         "27/08/2024",
         "nhs; dfe: education and child health insights from linked data research database - england",
         "education and child health insights from linked data research database - england"
        ]
       ],
       "shape": {
        "columns": 9,
        "rows": 2
       }
      },
      "text/html": [
       "<div>\n",
       "<style scoped>\n",
       "    .dataframe tbody tr th:only-of-type {\n",
       "        vertical-align: middle;\n",
       "    }\n",
       "\n",
       "    .dataframe tbody tr th {\n",
       "        vertical-align: top;\n",
       "    }\n",
       "\n",
       "    .dataframe thead th {\n",
       "        text-align: right;\n",
       "    }\n",
       "</style>\n",
       "<table border=\"1\" class=\"dataframe\">\n",
       "  <thead>\n",
       "    <tr style=\"text-align: right;\">\n",
       "      <th></th>\n",
       "      <th>Project ID</th>\n",
       "      <th>Title</th>\n",
       "      <th>Researchers</th>\n",
       "      <th>Legal Basis</th>\n",
       "      <th>Datasets Used</th>\n",
       "      <th>Secure Research Service</th>\n",
       "      <th>Accreditation Date</th>\n",
       "      <th>datasets_clean</th>\n",
       "      <th>dataset_list</th>\n",
       "    </tr>\n",
       "  </thead>\n",
       "  <tbody>\n",
       "    <tr>\n",
       "      <th>965</th>\n",
       "      <td>2024/163</td>\n",
       "      <td>Exploring the Impact of Clinical Diagnosis on ...</td>\n",
       "      <td>Elizabeth Camacho, The University of Liverpool...</td>\n",
       "      <td>Digital Economy Act 2017</td>\n",
       "      <td>NHS; DfE: Education and Child Health Insights ...</td>\n",
       "      <td>Office for National Statistics Secure Research...</td>\n",
       "      <td>27/08/2024</td>\n",
       "      <td>nhs; dfe: education and child health insights ...</td>\n",
       "      <td>nhs</td>\n",
       "    </tr>\n",
       "    <tr>\n",
       "      <th>965</th>\n",
       "      <td>2024/163</td>\n",
       "      <td>Exploring the Impact of Clinical Diagnosis on ...</td>\n",
       "      <td>Elizabeth Camacho, The University of Liverpool...</td>\n",
       "      <td>Digital Economy Act 2017</td>\n",
       "      <td>NHS; DfE: Education and Child Health Insights ...</td>\n",
       "      <td>Office for National Statistics Secure Research...</td>\n",
       "      <td>27/08/2024</td>\n",
       "      <td>nhs; dfe: education and child health insights ...</td>\n",
       "      <td>education and child health insights from linke...</td>\n",
       "    </tr>\n",
       "  </tbody>\n",
       "</table>\n",
       "</div>"
      ],
      "text/plain": [
       "    Project ID                                              Title  \\\n",
       "965   2024/163  Exploring the Impact of Clinical Diagnosis on ...   \n",
       "965   2024/163  Exploring the Impact of Clinical Diagnosis on ...   \n",
       "\n",
       "                                           Researchers  \\\n",
       "965  Elizabeth Camacho, The University of Liverpool...   \n",
       "965  Elizabeth Camacho, The University of Liverpool...   \n",
       "\n",
       "                  Legal Basis  \\\n",
       "965  Digital Economy Act 2017   \n",
       "965  Digital Economy Act 2017   \n",
       "\n",
       "                                         Datasets Used  \\\n",
       "965  NHS; DfE: Education and Child Health Insights ...   \n",
       "965  NHS; DfE: Education and Child Health Insights ...   \n",
       "\n",
       "                               Secure Research Service Accreditation Date  \\\n",
       "965  Office for National Statistics Secure Research...         27/08/2024   \n",
       "965  Office for National Statistics Secure Research...         27/08/2024   \n",
       "\n",
       "                                        datasets_clean  \\\n",
       "965  nhs; dfe: education and child health insights ...   \n",
       "965  nhs; dfe: education and child health insights ...   \n",
       "\n",
       "                                          dataset_list  \n",
       "965                                                nhs  \n",
       "965  education and child health insights from linke...  "
      ]
     },
     "execution_count": 236,
     "metadata": {},
     "output_type": "execute_result"
    }
   ],
   "source": [
    "df_exploded[df_exploded['Project ID'] == '2024/163']"
   ]
  },
  {
   "cell_type": "code",
   "execution_count": null,
   "id": "ab6cc38b",
   "metadata": {},
   "outputs": [
    {
     "data": {
      "text/plain": [
       "np.int64(2834)"
      ]
     },
     "execution_count": 231,
     "metadata": {},
     "output_type": "execute_result"
    }
   ],
   "source": [
    "# All projects accessed a total number of datasets over 2800\n",
    "all_datasets_df['count'].sum()"
   ]
  },
  {
   "cell_type": "markdown",
   "id": "6b45b314",
   "metadata": {},
   "source": [
    "## Some quick summary findings\n",
    "- We have over 1000 projects approved under the DEA between [check month] 2019 - May 2025. \n",
    "- Projects applied to reuse an overall total of >2800 datasets "
   ]
  },
  {
   "cell_type": "markdown",
   "id": "fd57b06c",
   "metadata": {},
   "source": [
    "## Overall use of different datasets"
   ]
  },
  {
   "cell_type": "code",
   "execution_count": 233,
   "id": "ab29b85f",
   "metadata": {},
   "outputs": [
    {
     "data": {
      "application/vnd.microsoft.datawrangler.viewer.v0+json": {
       "columns": [
        {
         "name": "index",
         "rawType": "int64",
         "type": "integer"
        },
        {
         "name": "dataset",
         "rawType": "object",
         "type": "string"
        },
        {
         "name": "count",
         "rawType": "int64",
         "type": "integer"
        }
       ],
       "conversionMethod": "pd.DataFrame",
       "ref": "e046f6c6-8b3e-47af-96a5-1696040369c8",
       "rows": [
        [
         "0",
         "business structure database",
         "129"
        ],
        [
         "1",
         "annual business survey",
         "121"
        ],
        [
         "2",
         "annual population survey",
         "96"
        ],
        [
         "3",
         "annual survey of hours and earnings",
         "90"
        ],
        [
         "4",
         "business structure database - uk",
         "83"
        ]
       ],
       "shape": {
        "columns": 2,
        "rows": 5
       }
      },
      "text/html": [
       "<div>\n",
       "<style scoped>\n",
       "    .dataframe tbody tr th:only-of-type {\n",
       "        vertical-align: middle;\n",
       "    }\n",
       "\n",
       "    .dataframe tbody tr th {\n",
       "        vertical-align: top;\n",
       "    }\n",
       "\n",
       "    .dataframe thead th {\n",
       "        text-align: right;\n",
       "    }\n",
       "</style>\n",
       "<table border=\"1\" class=\"dataframe\">\n",
       "  <thead>\n",
       "    <tr style=\"text-align: right;\">\n",
       "      <th></th>\n",
       "      <th>dataset</th>\n",
       "      <th>count</th>\n",
       "    </tr>\n",
       "  </thead>\n",
       "  <tbody>\n",
       "    <tr>\n",
       "      <th>0</th>\n",
       "      <td>business structure database</td>\n",
       "      <td>129</td>\n",
       "    </tr>\n",
       "    <tr>\n",
       "      <th>1</th>\n",
       "      <td>annual business survey</td>\n",
       "      <td>121</td>\n",
       "    </tr>\n",
       "    <tr>\n",
       "      <th>2</th>\n",
       "      <td>annual population survey</td>\n",
       "      <td>96</td>\n",
       "    </tr>\n",
       "    <tr>\n",
       "      <th>3</th>\n",
       "      <td>annual survey of hours and earnings</td>\n",
       "      <td>90</td>\n",
       "    </tr>\n",
       "    <tr>\n",
       "      <th>4</th>\n",
       "      <td>business structure database - uk</td>\n",
       "      <td>83</td>\n",
       "    </tr>\n",
       "  </tbody>\n",
       "</table>\n",
       "</div>"
      ],
      "text/plain": [
       "                               dataset  count\n",
       "0          business structure database    129\n",
       "1               annual business survey    121\n",
       "2             annual population survey     96\n",
       "3  annual survey of hours and earnings     90\n",
       "4     business structure database - uk     83"
      ]
     },
     "execution_count": 233,
     "metadata": {},
     "output_type": "execute_result"
    }
   ],
   "source": [
    "all_datasets_df.head()"
   ]
  },
  {
   "cell_type": "markdown",
   "id": "a527b3c3",
   "metadata": {},
   "source": [
    "### Overall use of ADR UK flagship datasets"
   ]
  },
  {
   "cell_type": "markdown",
   "id": "6a6cb930",
   "metadata": {},
   "source": [
    "## Use of datasets over time"
   ]
  },
  {
   "cell_type": "code",
   "execution_count": 20,
   "id": "5b21e28d",
   "metadata": {},
   "outputs": [],
   "source": [
    "# Convert accreditation date to datetime\n",
    "df['Accreditation Date'] = pd.to_datetime(df['Accreditation Date'], errors='coerce')\n",
    "df['Year'] = df['Accreditation Date'].dt.year"
   ]
  },
  {
   "cell_type": "code",
   "execution_count": 21,
   "id": "f569c2fa",
   "metadata": {},
   "outputs": [
    {
     "data": {
      "image/png": "[encoded data removed]",
      "text/plain": [
       "<Figure size 1200x600 with 1 Axes>"
      ]
     },
     "metadata": {},
     "output_type": "display_data"
    }
   ],
   "source": [
    "sns.set_style(\"darkgrid\")\n",
    "plt.figure(figsize=(12, 6))\n",
    "sns.histplot(df['Year'], bins=20, color='#4472C4', \n",
    "    alpha=0.8,\n",
    "    edgecolor='white',\n",
    "    linewidth=1)\n",
    "plt.title('Number of DEA Accredited Projects by Year (up to 14 May 2025)')\n",
    "plt.xlabel('Year')\n",
    "plt.ylabel('Number of Projects')\n",
    "plt.tight_layout()"
   ]
  },
  {
   "cell_type": "code",
   "execution_count": null,
   "id": "eb7adf7f",
   "metadata": {},
   "outputs": [],
   "source": []
  },
  {
   "cell_type": "code",
   "execution_count": 22,
   "id": "25137a13",
   "metadata": {},
   "outputs": [],
   "source": [
    "# ADR UK flagship datasets\n",
    "flagship_datasets = ['agricultural research collection']"
   ]
  },
  {
   "cell_type": "code",
   "execution_count": 256,
   "id": "c602098a",
   "metadata": {},
   "outputs": [
    {
     "data": {
      "text/html": [
       "<div>\n",
       "<style scoped>\n",
       "    .dataframe tbody tr th:only-of-type {\n",
       "        vertical-align: middle;\n",
       "    }\n",
       "\n",
       "    .dataframe tbody tr th {\n",
       "        vertical-align: top;\n",
       "    }\n",
       "\n",
       "    .dataframe thead th {\n",
       "        text-align: right;\n",
       "    }\n",
       "</style>\n",
       "<table border=\"1\" class=\"dataframe\">\n",
       "  <thead>\n",
       "    <tr style=\"text-align: right;\">\n",
       "      <th></th>\n",
       "      <th>Project ID</th>\n",
       "      <th>Title</th>\n",
       "      <th>Researchers</th>\n",
       "      <th>Legal Basis</th>\n",
       "      <th>Datasets Used</th>\n",
       "      <th>Secure Research Service</th>\n",
       "      <th>Accreditation Date</th>\n",
       "      <th>datasets_clean</th>\n",
       "      <th>dataset_list</th>\n",
       "    </tr>\n",
       "  </thead>\n",
       "  <tbody>\n",
       "    <tr>\n",
       "      <th>425</th>\n",
       "      <td>2022/129</td>\n",
       "      <td>AD|ARC : Linking Individual and Farm Level Dat...</td>\n",
       "      <td>Nicholas Webster, Welsh Government\\nMatthew Ke...</td>\n",
       "      <td>Digital Economy Act 2017</td>\n",
       "      <td>Office for National Statistics: Agricultural R...</td>\n",
       "      <td>Office for National Statistics Secure Research...</td>\n",
       "      <td>11/09/2022</td>\n",
       "      <td>office for national statistics: agricultural r...</td>\n",
       "      <td>agricultural research collection</td>\n",
       "    </tr>\n",
       "    <tr>\n",
       "      <th>575</th>\n",
       "      <td>2023/076</td>\n",
       "      <td>AD|ARC (Administrative Data Agri-Research Coll...</td>\n",
       "      <td>Nicholas Webster, Welsh Government\\nSian Morri...</td>\n",
       "      <td>Digital Economy Act 2017</td>\n",
       "      <td>Department for Environment, Food &amp; Rural Affai...</td>\n",
       "      <td>Office for National Statistics Secure Research...</td>\n",
       "      <td>2023-05-24</td>\n",
       "      <td>department for environment, food &amp; rural affai...</td>\n",
       "      <td>bespoke admin data: agricultural research coll...</td>\n",
       "    </tr>\n",
       "  </tbody>\n",
       "</table>\n",
       "</div>"
      ],
      "text/plain": [
       "    Project ID                                              Title  \\\n",
       "425   2022/129  AD|ARC : Linking Individual and Farm Level Dat...   \n",
       "575   2023/076  AD|ARC (Administrative Data Agri-Research Coll...   \n",
       "\n",
       "                                           Researchers  \\\n",
       "425  Nicholas Webster, Welsh Government\\nMatthew Ke...   \n",
       "575  Nicholas Webster, Welsh Government\\nSian Morri...   \n",
       "\n",
       "                  Legal Basis  \\\n",
       "425  Digital Economy Act 2017   \n",
       "575  Digital Economy Act 2017   \n",
       "\n",
       "                                         Datasets Used  \\\n",
       "425  Office for National Statistics: Agricultural R...   \n",
       "575  Department for Environment, Food & Rural Affai...   \n",
       "\n",
       "                               Secure Research Service Accreditation Date  \\\n",
       "425  Office for National Statistics Secure Research...         11/09/2022   \n",
       "575  Office for National Statistics Secure Research...         2023-05-24   \n",
       "\n",
       "                                        datasets_clean  \\\n",
       "425  office for national statistics: agricultural r...   \n",
       "575  department for environment, food & rural affai...   \n",
       "\n",
       "                                          dataset_list  \n",
       "425                   agricultural research collection  \n",
       "575  bespoke admin data: agricultural research coll...  "
      ]
     },
     "execution_count": 256,
     "metadata": {},
     "output_type": "execute_result"
    }
   ],
   "source": [
    "df_exploded[df_exploded['dataset_list'].str.contains('agricultural research collection', case=False, na=False)]"
   ]
  }
 ],
 "metadata": {
  "kernelspec": {
   "display_name": "venv",
   "language": "python",
   "name": "python3"
  },
  "language_info": {
   "codemirror_mode": {
    "name": "ipython",
    "version": 3
   },
   "file_extension": ".py",
   "mimetype": "text/x-python",
   "name": "python",
   "nbconvert_exporter": "python",
   "pygments_lexer": "ipython3",
   "version": "3.13.2"
  }
 },
 "nbformat": 4,
 "nbformat_minor": 5
}
